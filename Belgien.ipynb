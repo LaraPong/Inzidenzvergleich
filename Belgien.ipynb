{
 "cells": [
  {
   "cell_type": "code",
   "execution_count": 1,
   "id": "98a00889",
   "metadata": {},
   "outputs": [],
   "source": [
    "import requests, json\n",
    "\n",
    "def get_data_by_id(id):\n",
    "    url =\"https://dashboardcovid.trial.opendatasoft.com/api/records/1.0/search/?dataset=covid-19-pandemic-belgium-hospitalisations-by-date-and-province&q=&sort=date&facet=date&facet=province&facet=region&refine.province=\"\n",
    "    #\"https://dashboardcovid.trial.opendatasoft.com/api/records/1.0/search/?dataset=covid-19-pandemic-belgium-hospitalisations-by-date-and-province&q=&sort=date&facet=date&facet=province&facet=region&refine.province=\" + id\n",
    "    #Anfrage für bestimmte Province absetzen über id\n",
    "    result = requests.get(url=url) #Anfrage absetzen\n",
    "    return json.loads(result.text)"
   ]
  },
  {
   "cell_type": "code",
   "execution_count": 2,
   "id": "5799ae69",
   "metadata": {},
   "outputs": [
    {
     "data": {
      "text/html": [
       "<div>\n",
       "<style scoped>\n",
       "    .dataframe tbody tr th:only-of-type {\n",
       "        vertical-align: middle;\n",
       "    }\n",
       "\n",
       "    .dataframe tbody tr th {\n",
       "        vertical-align: top;\n",
       "    }\n",
       "\n",
       "    .dataframe thead th {\n",
       "        text-align: right;\n",
       "    }\n",
       "</style>\n",
       "<table border=\"1\" class=\"dataframe\">\n",
       "  <thead>\n",
       "    <tr style=\"text-align: right;\">\n",
       "      <th></th>\n",
       "      <th>AdminUnitId</th>\n",
       "    </tr>\n",
       "  </thead>\n",
       "  <tbody>\n",
       "    <tr>\n",
       "      <th>Brabant Wallon</th>\n",
       "      <td>Brabant+Wallon</td>\n",
       "    </tr>\n",
       "    <tr>\n",
       "      <th>Brussels</th>\n",
       "      <td>Brussels</td>\n",
       "    </tr>\n",
       "    <tr>\n",
       "      <th>Hainaut</th>\n",
       "      <td>Hainaut</td>\n",
       "    </tr>\n",
       "    <tr>\n",
       "      <th>Limburg</th>\n",
       "      <td>Limburg</td>\n",
       "    </tr>\n",
       "    <tr>\n",
       "      <th>Luxembourg</th>\n",
       "      <td>Luxembourg</td>\n",
       "    </tr>\n",
       "    <tr>\n",
       "      <th>Namur</th>\n",
       "      <td>Namur</td>\n",
       "    </tr>\n",
       "    <tr>\n",
       "      <th>Vlaams-Brabant</th>\n",
       "      <td>Vlaams-Brabant</td>\n",
       "    </tr>\n",
       "    <tr>\n",
       "      <th>West-Vlaanderen</th>\n",
       "      <td>West-Vlaanderen</td>\n",
       "    </tr>\n",
       "  </tbody>\n",
       "</table>\n",
       "</div>"
      ],
      "text/plain": [
       "                     AdminUnitId\n",
       "Brabant Wallon    Brabant+Wallon\n",
       "Brussels                Brussels\n",
       "Hainaut                  Hainaut\n",
       "Limburg                  Limburg\n",
       "Luxembourg            Luxembourg\n",
       "Namur                      Namur\n",
       "Vlaams-Brabant    Vlaams-Brabant\n",
       "West-Vlaanderen  West-Vlaanderen"
      ]
     },
     "execution_count": 2,
     "metadata": {},
     "output_type": "execute_result"
    }
   ],
   "source": [
    "import pandas as pd\n",
    "# als dictionary\n",
    "provincen= {'AdminUnitId': {\n",
    "    \"West-Vlaanderen\" : \"West-Vlaanderen\",\n",
    "    \"Vlaams-Brabant\" : \"Vlaams-Brabant\",\n",
    "    \"Namur\" : \"Namur\",\n",
    "    \"Luxembourg\" : \"Luxembourg\",\n",
    "    \"Limburg\" : \"Limburg\",\n",
    "    \"Hainaut\" : \"Hainaut\",\n",
    "    \"Brussels\" : \"Brussels\",\n",
    "    \"Brabant Wallon\" : \"Brabant+Wallon\", }}\n",
    "# umwandlung in dataframe\n",
    "df_provincen= pd.DataFrame(provincen)\n",
    "df_provincen\n"
   ]
  },
  {
   "cell_type": "markdown",
   "id": "610a90b6",
   "metadata": {},
   "source": [
    "## Provincen "
   ]
  },
  {
   "cell_type": "code",
   "execution_count": 3,
   "id": "5a06d5d1",
   "metadata": {},
   "outputs": [],
   "source": [
    "west_vlaanderen_data = get_data_by_id(\"West-Vlaanderen\")\n",
    "vlaams_brabant_data = get_data_by_id(\"Vlaams-Brabant\")\n",
    "#oost-_vlaanderen_data = get_data_by_id(\"Oost-Vlaanderen\")\n",
    "namur_data = get_data_by_id(\"Namur\")\n",
    "luxembourg_data = get_data_by_id(\"Luxembourg\")\n",
    "liège_data = get_data_by_id(\"Li%C3%83%C2%A8ge\") #deutscher Name Lüttich\n",
    "limburg_data = get_data_by_id(\"Limburg\")\n",
    "hainaut_data = get_data_by_id(\"Hainaut\")\n",
    "brussels_data = get_data_by_id(\"Brussels\")\n",
    "brabant_wallon_data = get_data_by_id(\"Brabant+Wallon\")\n",
    "Antwerpen_data = get_data_by_id(\"Antwerpen&refine.date=2021\")"
   ]
  },
  {
   "cell_type": "code",
   "execution_count": 4,
   "id": "5d0cda53",
   "metadata": {},
   "outputs": [
    {
     "data": {
      "text/html": [
       "<div>\n",
       "<style scoped>\n",
       "    .dataframe tbody tr th:only-of-type {\n",
       "        vertical-align: middle;\n",
       "    }\n",
       "\n",
       "    .dataframe tbody tr th {\n",
       "        vertical-align: top;\n",
       "    }\n",
       "\n",
       "    .dataframe thead th {\n",
       "        text-align: right;\n",
       "    }\n",
       "</style>\n",
       "<table border=\"1\" class=\"dataframe\">\n",
       "  <thead>\n",
       "    <tr style=\"text-align: right;\">\n",
       "      <th></th>\n",
       "      <th>province</th>\n",
       "      <th>total_in_ecmo</th>\n",
       "      <th>new_in</th>\n",
       "      <th>total_in_resp</th>\n",
       "      <th>region</th>\n",
       "      <th>geo_point_2d</th>\n",
       "      <th>new_out</th>\n",
       "      <th>total_in_icu</th>\n",
       "      <th>nr_reporting</th>\n",
       "      <th>total_in</th>\n",
       "      <th>date</th>\n",
       "    </tr>\n",
       "  </thead>\n",
       "  <tbody>\n",
       "    <tr>\n",
       "      <th>0</th>\n",
       "      <td>Antwerpen</td>\n",
       "      <td>3</td>\n",
       "      <td>38</td>\n",
       "      <td>42</td>\n",
       "      <td>Flanders</td>\n",
       "      <td>51.230127</td>\n",
       "      <td>41</td>\n",
       "      <td>91</td>\n",
       "      <td>14</td>\n",
       "      <td>425</td>\n",
       "      <td>2021-11-19</td>\n",
       "    </tr>\n",
       "    <tr>\n",
       "      <th>1</th>\n",
       "      <td>Antwerpen</td>\n",
       "      <td>3</td>\n",
       "      <td>38</td>\n",
       "      <td>42</td>\n",
       "      <td>Flanders</td>\n",
       "      <td>4.718478</td>\n",
       "      <td>41</td>\n",
       "      <td>91</td>\n",
       "      <td>14</td>\n",
       "      <td>425</td>\n",
       "      <td>2021-11-19</td>\n",
       "    </tr>\n",
       "  </tbody>\n",
       "</table>\n",
       "</div>"
      ],
      "text/plain": [
       "    province  total_in_ecmo  new_in  total_in_resp    region  geo_point_2d  \\\n",
       "0  Antwerpen              3      38             42  Flanders     51.230127   \n",
       "1  Antwerpen              3      38             42  Flanders      4.718478   \n",
       "\n",
       "   new_out  total_in_icu  nr_reporting  total_in        date  \n",
       "0       41            91            14       425  2021-11-19  \n",
       "1       41            91            14       425  2021-11-19  "
      ]
     },
     "execution_count": 4,
     "metadata": {},
     "output_type": "execute_result"
    }
   ],
   "source": [
    "#Probe ob es geht --> funktioniert\n",
    "dict_west_vlaanderen  = west_vlaanderen_data['records'][0]['fields']  # west_vlaanderen_data in dict umwandeln\n",
    "df_west_vlaanderen_data= pd.DataFrame(dict_west_vlaanderen) # in dataframe umwandeln\n",
    "\n",
    "df_west_vlaanderen_data"
   ]
  },
  {
   "cell_type": "code",
   "execution_count": 5,
   "id": "2a4d71b7",
   "metadata": {},
   "outputs": [
    {
     "ename": "SyntaxError",
     "evalue": "invalid syntax (Temp/ipykernel_11004/890053323.py, line 4)",
     "output_type": "error",
     "traceback": [
      "\u001b[1;36m  File \u001b[1;32m\"C:\\Users\\hasem\\AppData\\Local\\Temp/ipykernel_11004/890053323.py\"\u001b[1;36m, line \u001b[1;32m4\u001b[0m\n\u001b[1;33m    for key in : dict_liège\u001b[0m\n\u001b[1;37m               ^\u001b[0m\n\u001b[1;31mSyntaxError\u001b[0m\u001b[1;31m:\u001b[0m invalid syntax\n"
     ]
    }
   ],
   "source": [
    "#Probe ob es geht --> leider nicht für  liège_data\n",
    "dict_liège  = liège_data['records'][0]['fields']  # brussels_data in dict umwandeln\n",
    "\n",
    "for key in : dict_liège\n",
    "        print(key, \":\", dict_liège[key])\n",
    "#df_liège_data= pd.DataFrame(dict_liège) # in dataframe umwandeln\n",
    "\n",
    "#df_liège_data"
   ]
  },
  {
   "cell_type": "code",
   "execution_count": 8,
   "id": "7fa7064d",
   "metadata": {},
   "outputs": [
    {
     "data": {
      "text/html": [
       "<div>\n",
       "<style scoped>\n",
       "    .dataframe tbody tr th:only-of-type {\n",
       "        vertical-align: middle;\n",
       "    }\n",
       "\n",
       "    .dataframe tbody tr th {\n",
       "        vertical-align: top;\n",
       "    }\n",
       "\n",
       "    .dataframe thead th {\n",
       "        text-align: right;\n",
       "    }\n",
       "</style>\n",
       "<table border=\"1\" class=\"dataframe\">\n",
       "  <thead>\n",
       "    <tr style=\"text-align: right;\">\n",
       "      <th></th>\n",
       "      <th>province</th>\n",
       "      <th>total_in_ecmo</th>\n",
       "      <th>new_in</th>\n",
       "      <th>total_in_resp</th>\n",
       "      <th>region</th>\n",
       "      <th>geo_point_2d</th>\n",
       "      <th>new_out</th>\n",
       "      <th>total_in_icu</th>\n",
       "      <th>nr_reporting</th>\n",
       "      <th>total_in</th>\n",
       "      <th>date</th>\n",
       "    </tr>\n",
       "  </thead>\n",
       "  <tbody>\n",
       "    <tr>\n",
       "      <th>0</th>\n",
       "      <td>Antwerpen</td>\n",
       "      <td>3</td>\n",
       "      <td>38</td>\n",
       "      <td>42</td>\n",
       "      <td>Flanders</td>\n",
       "      <td>51.230127</td>\n",
       "      <td>41</td>\n",
       "      <td>91</td>\n",
       "      <td>14</td>\n",
       "      <td>425</td>\n",
       "      <td>2021-11-19</td>\n",
       "    </tr>\n",
       "    <tr>\n",
       "      <th>1</th>\n",
       "      <td>Antwerpen</td>\n",
       "      <td>3</td>\n",
       "      <td>38</td>\n",
       "      <td>42</td>\n",
       "      <td>Flanders</td>\n",
       "      <td>4.718478</td>\n",
       "      <td>41</td>\n",
       "      <td>91</td>\n",
       "      <td>14</td>\n",
       "      <td>425</td>\n",
       "      <td>2021-11-19</td>\n",
       "    </tr>\n",
       "  </tbody>\n",
       "</table>\n",
       "</div>"
      ],
      "text/plain": [
       "    province  total_in_ecmo  new_in  total_in_resp    region  geo_point_2d  \\\n",
       "0  Antwerpen              3      38             42  Flanders     51.230127   \n",
       "1  Antwerpen              3      38             42  Flanders      4.718478   \n",
       "\n",
       "   new_out  total_in_icu  nr_reporting  total_in        date  \n",
       "0       41            91            14       425  2021-11-19  \n",
       "1       41            91            14       425  2021-11-19  "
      ]
     },
     "execution_count": 8,
     "metadata": {},
     "output_type": "execute_result"
    }
   ],
   "source": [
    "#Probe ob es geht\n",
    "dict_brussels  = brussels_data['records'][0]['fields']  # brussels_data in dict umwandeln\n",
    "df_brussels_data= pd.DataFrame(dict_brussels) # in dataframe umwandeln\n",
    "\n",
    "df_brussels_data"
   ]
  },
  {
   "cell_type": "code",
   "execution_count": 24,
   "id": "a5c84b08",
   "metadata": {},
   "outputs": [
    {
     "name": "stdout",
     "output_type": "stream",
     "text": [
      "West Vlaanderen\n"
     ]
    },
    {
     "data": {
      "text/html": [
       "<div>\n",
       "<style scoped>\n",
       "    .dataframe tbody tr th:only-of-type {\n",
       "        vertical-align: middle;\n",
       "    }\n",
       "\n",
       "    .dataframe tbody tr th {\n",
       "        vertical-align: top;\n",
       "    }\n",
       "\n",
       "    .dataframe thead th {\n",
       "        text-align: right;\n",
       "    }\n",
       "</style>\n",
       "<table border=\"1\" class=\"dataframe\">\n",
       "  <thead>\n",
       "    <tr style=\"text-align: right;\">\n",
       "      <th></th>\n",
       "      <th>Neue Patienen im Krankenhaus</th>\n",
       "      <th>Betten belegt</th>\n",
       "      <th>Datum</th>\n",
       "    </tr>\n",
       "  </thead>\n",
       "  <tbody>\n",
       "    <tr>\n",
       "      <th>0</th>\n",
       "      <td>38</td>\n",
       "      <td>425</td>\n",
       "      <td>2021-11-19</td>\n",
       "    </tr>\n",
       "  </tbody>\n",
       "</table>\n",
       "</div>"
      ],
      "text/plain": [
       "   Neue Patienen im Krankenhaus  Betten belegt       Datum\n",
       "0                            38            425  2021-11-19"
      ]
     },
     "execution_count": 24,
     "metadata": {},
     "output_type": "execute_result"
    }
   ],
   "source": [
    "example_df = df_west_vlaanderen_data[['new_in', 'total_in', 'date']]\n",
    "example_df.columns = ['Neue Patienen im Krankenhaus', 'Betten belegt', 'Datum']\n",
    "\n",
    "print('West Vlaanderen')\n",
    "example_df.head(1)\n"
   ]
  },
  {
   "cell_type": "code",
   "execution_count": 10,
   "id": "733efe44",
   "metadata": {
    "scrolled": true
   },
   "outputs": [
    {
     "name": "stdout",
     "output_type": "stream",
     "text": [
      "province : Antwerpen\n",
      "total_in_ecmo : 3\n",
      "new_in : 38\n",
      "total_in_resp : 42\n",
      "region : Flanders\n",
      "geo_point_2d : [51.2301272595, 4.71847758132]\n",
      "new_out : 41\n",
      "total_in_icu : 91\n",
      "nr_reporting : 14\n",
      "total_in : 425\n",
      "date : 2021-11-19\n"
     ]
    }
   ],
   "source": [
    "for key in dict_brussels:\n",
    "    print(key, \":\", dict_brussels[key])"
   ]
  },
  {
   "cell_type": "markdown",
   "id": "21d49c67",
   "metadata": {},
   "source": [
    "Wie kann ich mir nur bestimmte Werte ausgeben lassen? --> erledigt \n",
    "\n",
    "Warum geht die Abfrage für Liège nicht? Aber für andere schon?"
   ]
  },
  {
   "cell_type": "markdown",
   "id": "72e54100",
   "metadata": {},
   "source": [
    "## Definition um nur einzelne Daten zu extrahieren"
   ]
  },
  {
   "cell_type": "code",
   "execution_count": 12,
   "id": "92afdbb3",
   "metadata": {},
   "outputs": [],
   "source": [
    "#def extract_info(dictionary, cityname):\n",
    "    #total_of_hospitalized_patients = dictionary['total_in']\n",
    "    #number_of_new_hospital_intakes = dictionary['new_in']\n",
    "    #datum = dictionary['date']\n",
    "    #new_dict= {}\n",
    "    #new_dict.update(Betten belegt = total_of_hospitalized_patients, Neue Patienen im Krankenhaus = number_of_new_hospital_intakes, Datum = datum )\n",
    "    #dict_final = {}\n",
    "    #dict_final [cityname] = new_dict \n",
    "   \n",
    "    #return pd.DataFrame(dict_final) # Ausgabe als DataFrame - Zweck: Ansicht als Tabelle\n",
    "    "
   ]
  },
  {
   "cell_type": "code",
   "execution_count": 27,
   "id": "7801b58e",
   "metadata": {},
   "outputs": [],
   "source": [
    "def extract_info(df, cityname):\n",
    "    print(cityname)\n",
    "    df_new = df[['new_in', 'total_in', 'date']] #nur die wichtigen Infos\n",
    "    df_new.columns = ['Neue Patienen im Krankenhaus', 'Betten belegt', 'Datum'] #Spalten-Namen ändern\n",
    "    \n",
    "    return df_new.head(1)\n",
    "    "
   ]
  },
  {
   "cell_type": "code",
   "execution_count": 28,
   "id": "bf805a94",
   "metadata": {},
   "outputs": [
    {
     "name": "stdout",
     "output_type": "stream",
     "text": [
      "Brüssel\n"
     ]
    },
    {
     "data": {
      "text/html": [
       "<div>\n",
       "<style scoped>\n",
       "    .dataframe tbody tr th:only-of-type {\n",
       "        vertical-align: middle;\n",
       "    }\n",
       "\n",
       "    .dataframe tbody tr th {\n",
       "        vertical-align: top;\n",
       "    }\n",
       "\n",
       "    .dataframe thead th {\n",
       "        text-align: right;\n",
       "    }\n",
       "</style>\n",
       "<table border=\"1\" class=\"dataframe\">\n",
       "  <thead>\n",
       "    <tr style=\"text-align: right;\">\n",
       "      <th></th>\n",
       "      <th>Neue Patienen im Krankenhaus</th>\n",
       "      <th>Betten belegt</th>\n",
       "      <th>Datum</th>\n",
       "    </tr>\n",
       "  </thead>\n",
       "  <tbody>\n",
       "    <tr>\n",
       "      <th>0</th>\n",
       "      <td>38</td>\n",
       "      <td>425</td>\n",
       "      <td>2021-11-19</td>\n",
       "    </tr>\n",
       "  </tbody>\n",
       "</table>\n",
       "</div>"
      ],
      "text/plain": [
       "   Neue Patienen im Krankenhaus  Betten belegt       Datum\n",
       "0                            38            425  2021-11-19"
      ]
     },
     "execution_count": 28,
     "metadata": {},
     "output_type": "execute_result"
    }
   ],
   "source": [
    "brussels = extract_info(df_brussels_data, \"Brüssel\")\n",
    "\n",
    "brussels"
   ]
  },
  {
   "cell_type": "code",
   "execution_count": null,
   "id": "be164163",
   "metadata": {},
   "outputs": [],
   "source": []
  }
 ],
 "metadata": {
  "kernelspec": {
   "display_name": "Python 3 (ipykernel)",
   "language": "python",
   "name": "python3"
  },
  "language_info": {
   "codemirror_mode": {
    "name": "ipython",
    "version": 3
   },
   "file_extension": ".py",
   "mimetype": "text/x-python",
   "name": "python",
   "nbconvert_exporter": "python",
   "pygments_lexer": "ipython3",
   "version": "3.9.5"
  }
 },
 "nbformat": 4,
 "nbformat_minor": 5
}
