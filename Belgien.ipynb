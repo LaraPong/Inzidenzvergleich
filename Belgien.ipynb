{
 "cells": [
  {
   "cell_type": "code",
   "execution_count": 1,
   "id": "98a00889",
   "metadata": {},
   "outputs": [],
   "source": [
    "import requests, json\n",
    "\n",
    "def get_data_by_id(id):\n",
    "    url =\"https://dashboardcovid.trial.opendatasoft.com/api/records/1.0/search/?dataset=covid-19-pandemic-belgium-hospitalisations-by-date-and-province&q=&sort=date&facet=date&facet=province&facet=region&refine.province=\" + id\n",
    "    #Anfrage für bestimmte Province absetzen über id\n",
    "    result = requests.get(url=url) #Anfrage absetzen\n",
    "    return json.loads(result.text)"
   ]
  },
  {
   "cell_type": "code",
   "execution_count": 11,
   "id": "5799ae69",
   "metadata": {},
   "outputs": [
    {
     "data": {
      "text/html": [
       "<div>\n",
       "<style scoped>\n",
       "    .dataframe tbody tr th:only-of-type {\n",
       "        vertical-align: middle;\n",
       "    }\n",
       "\n",
       "    .dataframe tbody tr th {\n",
       "        vertical-align: top;\n",
       "    }\n",
       "\n",
       "    .dataframe thead th {\n",
       "        text-align: right;\n",
       "    }\n",
       "</style>\n",
       "<table border=\"1\" class=\"dataframe\">\n",
       "  <thead>\n",
       "    <tr style=\"text-align: right;\">\n",
       "      <th></th>\n",
       "      <th>AdminUnitId</th>\n",
       "    </tr>\n",
       "  </thead>\n",
       "  <tbody>\n",
       "    <tr>\n",
       "      <th>Brabant Wallon</th>\n",
       "      <td>Brabant+Wallon</td>\n",
       "    </tr>\n",
       "    <tr>\n",
       "      <th>Brussels</th>\n",
       "      <td>Brussels</td>\n",
       "    </tr>\n",
       "    <tr>\n",
       "      <th>Hainaut</th>\n",
       "      <td>Hainaut</td>\n",
       "    </tr>\n",
       "    <tr>\n",
       "      <th>Limburg</th>\n",
       "      <td>Limburg</td>\n",
       "    </tr>\n",
       "    <tr>\n",
       "      <th>Luxembourg</th>\n",
       "      <td>Luxembourg</td>\n",
       "    </tr>\n",
       "    <tr>\n",
       "      <th>Namur</th>\n",
       "      <td>Namur</td>\n",
       "    </tr>\n",
       "    <tr>\n",
       "      <th>Vlaams-Brabant</th>\n",
       "      <td>Vlaams-Brabant</td>\n",
       "    </tr>\n",
       "    <tr>\n",
       "      <th>West-Vlaanderen</th>\n",
       "      <td>West-Vlaanderen</td>\n",
       "    </tr>\n",
       "  </tbody>\n",
       "</table>\n",
       "</div>"
      ],
      "text/plain": [
       "                     AdminUnitId\n",
       "Brabant Wallon    Brabant+Wallon\n",
       "Brussels                Brussels\n",
       "Hainaut                  Hainaut\n",
       "Limburg                  Limburg\n",
       "Luxembourg            Luxembourg\n",
       "Namur                      Namur\n",
       "Vlaams-Brabant    Vlaams-Brabant\n",
       "West-Vlaanderen  West-Vlaanderen"
      ]
     },
     "execution_count": 11,
     "metadata": {},
     "output_type": "execute_result"
    }
   ],
   "source": [
    "import pandas as pd\n",
    "# als dictionary\n",
    "provincen= {'AdminUnitId': {\n",
    "    \"West-Vlaanderen\" : \"West-Vlaanderen\",\n",
    "    \"Vlaams-Brabant\" : \"Vlaams-Brabant\",\n",
    "    \"Namur\" : \"Namur\",\n",
    "    \"Luxembourg\" : \"Luxembourg\",\n",
    "    \"Limburg\" : \"Limburg\",\n",
    "    \"Hainaut\" : \"Hainaut\",\n",
    "    \"Brussels\" : \"Brussels\",\n",
    "    \"Brabant Wallon\" : \"Brabant+Wallon\", }}\n",
    "# umwandlung in dataframe\n",
    "df_provincen= pd.DataFrame(provincen)\n",
    "df_provincen\n"
   ]
  },
  {
   "cell_type": "markdown",
   "id": "610a90b6",
   "metadata": {},
   "source": [
    "## Provincen "
   ]
  },
  {
   "cell_type": "code",
   "execution_count": 12,
   "id": "5a06d5d1",
   "metadata": {},
   "outputs": [],
   "source": [
    "west_vlaanderen_data = get_data_by_id(\"West-Vlaanderen\")\n",
    "vlaams_brabant_data = get_data_by_id(\"Vlaams-Brabant\")\n",
    "#oost-_vlaanderen_data = get_data_by_id(\"Oost-Vlaanderen\")\n",
    "namur_data = get_data_by_id(\"Namur\")\n",
    "luxembourg_data = get_data_by_id(\"Luxembourg\")\n",
    "liège_data = get_data_by_id(\"Li%C3%83%C2%A8ge\") #deutscher Name Lüttich\n",
    "limburg_data = get_data_by_id(\"Limburg\")\n",
    "hainaut_data = get_data_by_id(\"Hainaut\")\n",
    "brussels_data = get_data_by_id(\"Brussels\")\n",
    "brabant_wallon_data = get_data_by_id(\"Brabant+Wallon\")\n",
    "Antwerpen_data = get_data_by_id(\"Antwerpen&refine.date=2021\")"
   ]
  },
  {
   "cell_type": "code",
   "execution_count": 13,
   "id": "5d0cda53",
   "metadata": {},
   "outputs": [
    {
     "data": {
      "text/html": [
       "<div>\n",
       "<style scoped>\n",
       "    .dataframe tbody tr th:only-of-type {\n",
       "        vertical-align: middle;\n",
       "    }\n",
       "\n",
       "    .dataframe tbody tr th {\n",
       "        vertical-align: top;\n",
       "    }\n",
       "\n",
       "    .dataframe thead th {\n",
       "        text-align: right;\n",
       "    }\n",
       "</style>\n",
       "<table border=\"1\" class=\"dataframe\">\n",
       "  <thead>\n",
       "    <tr style=\"text-align: right;\">\n",
       "      <th></th>\n",
       "      <th>province</th>\n",
       "      <th>total_in_ecmo</th>\n",
       "      <th>new_in</th>\n",
       "      <th>total_in_resp</th>\n",
       "      <th>region</th>\n",
       "      <th>geo_point_2d</th>\n",
       "      <th>new_out</th>\n",
       "      <th>total_in_icu</th>\n",
       "      <th>nr_reporting</th>\n",
       "      <th>total_in</th>\n",
       "      <th>date</th>\n",
       "    </tr>\n",
       "  </thead>\n",
       "  <tbody>\n",
       "    <tr>\n",
       "      <th>0</th>\n",
       "      <td>West-Vlaanderen</td>\n",
       "      <td>0</td>\n",
       "      <td>40</td>\n",
       "      <td>26</td>\n",
       "      <td>Flanders</td>\n",
       "      <td>51.012034</td>\n",
       "      <td>61</td>\n",
       "      <td>68</td>\n",
       "      <td>11</td>\n",
       "      <td>418</td>\n",
       "      <td>2021-11-16</td>\n",
       "    </tr>\n",
       "    <tr>\n",
       "      <th>1</th>\n",
       "      <td>West-Vlaanderen</td>\n",
       "      <td>0</td>\n",
       "      <td>40</td>\n",
       "      <td>26</td>\n",
       "      <td>Flanders</td>\n",
       "      <td>3.056342</td>\n",
       "      <td>61</td>\n",
       "      <td>68</td>\n",
       "      <td>11</td>\n",
       "      <td>418</td>\n",
       "      <td>2021-11-16</td>\n",
       "    </tr>\n",
       "  </tbody>\n",
       "</table>\n",
       "</div>"
      ],
      "text/plain": [
       "          province  total_in_ecmo  new_in  total_in_resp    region  \\\n",
       "0  West-Vlaanderen              0      40             26  Flanders   \n",
       "1  West-Vlaanderen              0      40             26  Flanders   \n",
       "\n",
       "   geo_point_2d  new_out  total_in_icu  nr_reporting  total_in        date  \n",
       "0     51.012034       61            68            11       418  2021-11-16  \n",
       "1      3.056342       61            68            11       418  2021-11-16  "
      ]
     },
     "execution_count": 13,
     "metadata": {},
     "output_type": "execute_result"
    }
   ],
   "source": [
    "#Probe ob es geht --> funktioniert\n",
    "dict_west_vlaanderen  = west_vlaanderen_data['records'][0]['fields']  # west_vlaanderen_data in dict umwandeln\n",
    "df_west_vlaanderen_data= pd.DataFrame(dict_west_vlaanderen) # in dataframe umwandeln\n",
    "\n",
    "df_west_vlaanderen_data"
   ]
  },
  {
   "cell_type": "code",
   "execution_count": 14,
   "id": "7fa7064d",
   "metadata": {},
   "outputs": [
    {
     "data": {
      "text/html": [
       "<div>\n",
       "<style scoped>\n",
       "    .dataframe tbody tr th:only-of-type {\n",
       "        vertical-align: middle;\n",
       "    }\n",
       "\n",
       "    .dataframe tbody tr th {\n",
       "        vertical-align: top;\n",
       "    }\n",
       "\n",
       "    .dataframe thead th {\n",
       "        text-align: right;\n",
       "    }\n",
       "</style>\n",
       "<table border=\"1\" class=\"dataframe\">\n",
       "  <thead>\n",
       "    <tr style=\"text-align: right;\">\n",
       "      <th></th>\n",
       "      <th>province</th>\n",
       "      <th>total_in_ecmo</th>\n",
       "      <th>new_in</th>\n",
       "      <th>total_in_resp</th>\n",
       "      <th>region</th>\n",
       "      <th>geo_point_2d</th>\n",
       "      <th>new_out</th>\n",
       "      <th>total_in_icu</th>\n",
       "      <th>nr_reporting</th>\n",
       "      <th>total_in</th>\n",
       "      <th>date</th>\n",
       "    </tr>\n",
       "  </thead>\n",
       "  <tbody>\n",
       "    <tr>\n",
       "      <th>0</th>\n",
       "      <td>Brussels</td>\n",
       "      <td>11</td>\n",
       "      <td>40</td>\n",
       "      <td>45</td>\n",
       "      <td>Brussels</td>\n",
       "      <td>50.836566</td>\n",
       "      <td>42</td>\n",
       "      <td>75</td>\n",
       "      <td>15</td>\n",
       "      <td>377</td>\n",
       "      <td>2021-11-16</td>\n",
       "    </tr>\n",
       "    <tr>\n",
       "      <th>1</th>\n",
       "      <td>Brussels</td>\n",
       "      <td>11</td>\n",
       "      <td>40</td>\n",
       "      <td>45</td>\n",
       "      <td>Brussels</td>\n",
       "      <td>4.369434</td>\n",
       "      <td>42</td>\n",
       "      <td>75</td>\n",
       "      <td>15</td>\n",
       "      <td>377</td>\n",
       "      <td>2021-11-16</td>\n",
       "    </tr>\n",
       "  </tbody>\n",
       "</table>\n",
       "</div>"
      ],
      "text/plain": [
       "   province  total_in_ecmo  new_in  total_in_resp    region  geo_point_2d  \\\n",
       "0  Brussels             11      40             45  Brussels     50.836566   \n",
       "1  Brussels             11      40             45  Brussels      4.369434   \n",
       "\n",
       "   new_out  total_in_icu  nr_reporting  total_in        date  \n",
       "0       42            75            15       377  2021-11-16  \n",
       "1       42            75            15       377  2021-11-16  "
      ]
     },
     "execution_count": 14,
     "metadata": {},
     "output_type": "execute_result"
    }
   ],
   "source": [
    "#Probe ob es geht --> leider nicht für  liège_data\n",
    "dict_brussels  = brussels_data['records'][0]['fields']  # brussels_data in dict umwandeln\n",
    "df_brussels_data= pd.DataFrame(dict_brussels) # in dataframe umwandeln\n",
    "\n",
    "df_brussels_data"
   ]
  },
  {
   "cell_type": "code",
   "execution_count": 15,
   "id": "a5c84b08",
   "metadata": {},
   "outputs": [
    {
     "data": {
      "text/plain": [
       "1"
      ]
     },
     "execution_count": 15,
     "metadata": {},
     "output_type": "execute_result"
    }
   ],
   "source": [
    "df_west_vlaanderen_data.index[1]"
   ]
  },
  {
   "cell_type": "code",
   "execution_count": 20,
   "id": "733efe44",
   "metadata": {},
   "outputs": [
    {
     "name": "stdout",
     "output_type": "stream",
     "text": [
      "province : Brussels\n",
      "total_in_ecmo : 11\n",
      "new_in : 40\n",
      "total_in_resp : 45\n",
      "region : Brussels\n",
      "geo_point_2d : [50.8365663663, 4.36943412254]\n",
      "new_out : 42\n",
      "total_in_icu : 75\n",
      "nr_reporting : 15\n",
      "total_in : 377\n",
      "date : 2021-11-16\n"
     ]
    }
   ],
   "source": [
    "for key in dict_brussels:\n",
    "    print(key, \":\", dict_brussels[key])"
   ]
  },
  {
   "cell_type": "markdown",
   "id": "21d49c67",
   "metadata": {},
   "source": [
    "Wie kann ich mir nur bestimmte Werte ausgeben lassen? (Aus der Tabelle) \n",
    "Warum geht die Abfrage für Liège nicht? Aber für andere schon?"
   ]
  },
  {
   "cell_type": "code",
   "execution_count": null,
   "id": "92afdbb3",
   "metadata": {},
   "outputs": [],
   "source": []
  }
 ],
 "metadata": {
  "kernelspec": {
   "display_name": "Python 3 (ipykernel)",
   "language": "python",
   "name": "python3"
  },
  "language_info": {
   "codemirror_mode": {
    "name": "ipython",
    "version": 3
   },
   "file_extension": ".py",
   "mimetype": "text/x-python",
   "name": "python",
   "nbconvert_exporter": "python",
   "pygments_lexer": "ipython3",
   "version": "3.9.5"
  }
 },
 "nbformat": 4,
 "nbformat_minor": 5
}
