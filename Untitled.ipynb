{
 "cells": [
  {
   "cell_type": "code",
   "execution_count": 17,
   "id": "e44c801c",
   "metadata": {},
   "outputs": [
    {
     "name": "stdout",
     "output_type": "stream",
     "text": [
      "{'Berlin': 340.7, 'Muenchen': 694.8, 'Hamburg': 158.8, 'Koeln': 252.1, 'Frankfurt': 306.9, 'Stuttgart': 336.3, 'Duesseldorf': 240, 'Dortmund': 209.6, 'Essen': 155.4}\n"
     ]
    }
   ],
   "source": [
    "import requests, json\n",
    "\n",
    "\n",
    "def get_incidence(city_id):\n",
    "    url = \"https://services7.arcgis.com/mOBPykOjAyBO2ZKk/arcgis/rest/services/rki_key_data_v/FeatureServer/0/query?\"\n",
    "    parameter = {\n",
    "        'referer':'https://www.mywebapp.com',\n",
    "        'user-agent':'python-requests/2.9.1',\n",
    "        'where': f'AdmUnitId = {city_id}', # Welche landkreise sollen zurück gegeben werden\n",
    "        'outFields': '*', # Rückgabe aller Felder\n",
    "        'returnGeometry': False, # Keine Geometrien\n",
    "        'f':'json', # Rückgabeformat, hier JSON\n",
    "        'cacheHint': True # Zugriff über CDN anfragen\n",
    "    }\n",
    "    result = requests.get(url=url, params=parameter) #Anfrage absetzen\n",
    "    resultjson = json.loads(result.text) # Das Ergebnis JSON als Python Dictionary laden\n",
    "    incidence = resultjson['features'][0]['attributes']['Inz7T']\n",
    "    return incidence\n",
    "\n",
    "\n",
    "\n",
    "def make_cities():\n",
    "    \n",
    "    big_cities = {# Das irgendwann direkt aus Datenbank oder Tabelle ablesen\n",
    "      'Berlin': 11,\n",
    "      'Muenchen': 9162,\n",
    "      'Hamburg': 2000,\n",
    "      'Koeln': 5315,\n",
    "      'Frankfurt': 6412,\n",
    "      'Stuttgart': 8111,\n",
    "      'Duesseldorf': 5111,\n",
    "      'Dortmund': 5913,\n",
    "      'Essen': 5113 }\n",
    "    \n",
    "    for key, value in big_cities.items():\n",
    "        big_cities[key] = get_incidence(value)\n",
    "\n",
    "    return big_cities\n",
    "\n",
    "print(make_cities())\n",
    "    \n",
    "    \n",
    "    \n",
    "    \n",
    "    #@app.route(\"/\")  # ACHTUNG derzeit doppelt bei def homepage\n",
    "#\n",
    "#def index():\n",
    "#    berlin = get_incidence(11)\n",
    "#    munich = get_incidence(9162)\n",
    "#    hamburg= get_incidence(2000)\n",
    "#    cologne = get_incidence(5315)\n",
    "#    frankfurt = get_incidence(6412)\n",
    "#    stuttgart = get_incidence(8111)\n",
    "#    duesseldorf = get_incidence(5111)\n",
    "#    dortmund = get_incidence(5913)\n",
    "#    essen = get_incidence(5113)\n",
    "\n",
    "#    dict={}\n",
    "#    dict['Berlin'] =berlin\n",
    "#    dict['München'] = munich\n",
    "#    dict['Hamburg'] = hamburg\n",
    "#    dict['Köln'] = cologne\n",
    "#    dict['Frankfurt'] = frankfurt\n",
    "#    dict['Stuttgart'] = stuttgart\n",
    "#    dict['Düsseldorf'] = duesseldorf\n",
    "#    dict['Dortmund'] = dortmund\n",
    "#    dict['Essen'] = essen\n",
    "\n",
    "#    return render_template('dummy_frontend.html', berlin = berlin, hamburg = hamburg, cologne = cologne)\n",
    "\n",
    "\n",
    "# Funktion ruft Inzidenzen für 10 gr Städte auf und speichert sie in dictionary\n",
    "\n",
    "    \n"
   ]
  },
  {
   "cell_type": "code",
   "execution_count": null,
   "id": "a0f76e02",
   "metadata": {},
   "outputs": [],
   "source": []
  }
 ],
 "metadata": {
  "kernelspec": {
   "display_name": "Python 3",
   "language": "python",
   "name": "python3"
  },
  "language_info": {
   "codemirror_mode": {
    "name": "ipython",
    "version": 3
   },
   "file_extension": ".py",
   "mimetype": "text/x-python",
   "name": "python",
   "nbconvert_exporter": "python",
   "pygments_lexer": "ipython3",
   "version": "3.8.8"
  }
 },
 "nbformat": 4,
 "nbformat_minor": 5
}
