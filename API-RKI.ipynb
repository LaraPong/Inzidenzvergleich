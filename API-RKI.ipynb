{
 "cells": [
  {
   "cell_type": "markdown",
   "id": "01ba5382",
   "metadata": {},
   "source": [
    "### Funktion um Daten per Id zu laden "
   ]
  },
  {
   "cell_type": "code",
   "execution_count": null,
   "execution_count": 4,
   "id": "34c55809",
   "metadata": {},
   "outputs": [],
   "source": [
    "import requests, json\n",
    "\n",
    "def get_data_by_id(id):\n",
    "    url = \"https://services7.arcgis.com/mOBPykOjAyBO2ZKk/arcgis/rest/services/rki_key_data_v/FeatureServer/0/query?\"\n",
    "    \n",
    "    parameter = {\n",
    "        'referer':'https://www.mywebapp.com',\n",
    "        'user-agent':'python-requests/2.9.1',\n",
    "        'where': f'AdmUnitId = {id}', # Welche landkreise sollen zurück gegeben werden\n",
    "        'outFields': '*', # Rückgabe aller Felder\n",
    "        'returnGeometry': False, # Keine Geometrien\n",
    "        'f':'json', # Rückgabeformat, hier JSON\n",
    "        'cacheHint': True # Zugriff über CDN anfragen\n",
    "    }\n",
    "    result = requests.get(url=url, params=parameter) #Anfrage absetzen\n",
    "    return json.loads(result.text) # Das Ergebnis JSON als Python Dictionary laden"
   ]
  },
  {
   "cell_type": "markdown",
   "id": "25b08ac4",
   "metadata": {},
   "source": [
    "### Die 10 größten Städte Deutschlands mit AdminUnitId"
   ]
  },
  {
   "cell_type": "code",
   "execution_count": null,
   "execution_count": 5,
   "id": "0e04c801",
   "metadata": {},
   "outputs": [],
   "outputs": [
    {
     "data": {
      "text/html": [
       "<div>\n",
       "<style scoped>\n",
       "    .dataframe tbody tr th:only-of-type {\n",
       "        vertical-align: middle;\n",
       "    }\n",
       "\n",
       "    .dataframe tbody tr th {\n",
       "        vertical-align: top;\n",
       "    }\n",
       "\n",
       "    .dataframe thead th {\n",
       "        text-align: right;\n",
       "    }\n",
       "</style>\n",
       "<table border=\"1\" class=\"dataframe\">\n",
       "  <thead>\n",
       "    <tr style=\"text-align: right;\">\n",
       "      <th></th>\n",
       "      <th>AdminUnitId</th>\n",
       "    </tr>\n",
       "  </thead>\n",
       "  <tbody>\n",
       "    <tr>\n",
       "      <th>Berlin</th>\n",
       "      <td>11</td>\n",
       "    </tr>\n",
       "    <tr>\n",
       "      <th>Dortmund</th>\n",
       "      <td>5913</td>\n",
       "    </tr>\n",
       "    <tr>\n",
       "      <th>Düsseldurf</th>\n",
       "      <td>5111</td>\n",
       "    </tr>\n",
       "    <tr>\n",
       "      <th>Essen</th>\n",
       "      <td>5113</td>\n",
       "    </tr>\n",
       "    <tr>\n",
       "      <th>Frankfurt</th>\n",
       "      <td>6412</td>\n",
       "    </tr>\n",
       "    <tr>\n",
       "      <th>Hamburg</th>\n",
       "      <td>2000</td>\n",
       "    </tr>\n",
       "    <tr>\n",
       "      <th>Köln</th>\n",
       "      <td>5315</td>\n",
       "    </tr>\n",
       "    <tr>\n",
       "      <th>München</th>\n",
       "      <td>9162</td>\n",
       "    </tr>\n",
       "    <tr>\n",
       "      <th>Stuttgart</th>\n",
       "      <td>8111</td>\n",
       "    </tr>\n",
       "  </tbody>\n",
       "</table>\n",
       "</div>"
      ],
      "text/plain": [
       "            AdminUnitId\n",
       "Berlin               11\n",
       "Dortmund           5913\n",
       "Düsseldurf         5111\n",
       "Essen              5113\n",
       "Frankfurt          6412\n",
       "Hamburg            2000\n",
       "Köln               5315\n",
       "München            9162\n",
       "Stuttgart          8111"
      ]
     },
     "execution_count": 5,
     "metadata": {},
     "output_type": "execute_result"
    }
   ],
   "source": [
    "import pandas as pd\n",
    "\n",
@@ -77,7 +160,7 @@
  },
  {
   "cell_type": "code",
   "execution_count": null,
   "execution_count": 6,
   "id": "c01dec62",
   "metadata": {},
   "outputs": [],
@@ -111,10 +194,113 @@
  },
  {
   "cell_type": "code",
   "execution_count": null,
   "execution_count": 7,
   "id": "5f3c4ef4",
   "metadata": {},
   "outputs": [],
   "outputs": [
    {
     "data": {
      "text/html": [
       "<div>\n",
       "<style scoped>\n",
       "    .dataframe tbody tr th:only-of-type {\n",
       "        vertical-align: middle;\n",
       "    }\n",
       "\n",
       "    .dataframe tbody tr th {\n",
       "        vertical-align: top;\n",
       "    }\n",
       "\n",
       "    .dataframe thead th {\n",
       "        text-align: right;\n",
       "    }\n",
       "</style>\n",
       "<table border=\"1\" class=\"dataframe\">\n",
       "  <thead>\n",
       "    <tr style=\"text-align: right;\">\n",
       "      <th></th>\n",
       "      <th>attributes</th>\n",
       "    </tr>\n",
       "  </thead>\n",
       "  <tbody>\n",
       "    <tr>\n",
       "      <th>AdmUnitId</th>\n",
       "      <td>11.0</td>\n",
       "    </tr>\n",
       "    <tr>\n",
       "      <th>AnzAktiv</th>\n",
       "      <td>10700.0</td>\n",
       "    </tr>\n",
       "    <tr>\n",
       "      <th>AnzAktivNeu</th>\n",
       "      <td>800.0</td>\n",
       "    </tr>\n",
       "    <tr>\n",
       "      <th>AnzFall</th>\n",
       "      <td>225044.0</td>\n",
       "    </tr>\n",
       "    <tr>\n",
       "      <th>AnzFall7T</th>\n",
       "      <td>5719.0</td>\n",
       "    </tr>\n",
       "    <tr>\n",
       "      <th>AnzFallNeu</th>\n",
       "      <td>1498.0</td>\n",
       "    </tr>\n",
       "    <tr>\n",
       "      <th>AnzGenesen</th>\n",
       "      <td>210600.0</td>\n",
       "    </tr>\n",
       "    <tr>\n",
       "      <th>AnzGenesenNeu</th>\n",
       "      <td>700.0</td>\n",
       "    </tr>\n",
       "    <tr>\n",
       "      <th>AnzTodesfall</th>\n",
       "      <td>3709.0</td>\n",
       "    </tr>\n",
       "    <tr>\n",
       "      <th>AnzTodesfallNeu</th>\n",
       "      <td>5.0</td>\n",
       "    </tr>\n",
       "    <tr>\n",
       "      <th>BundeslandId</th>\n",
       "      <td>11.0</td>\n",
       "    </tr>\n",
       "    <tr>\n",
       "      <th>Inz7T</th>\n",
       "      <td>156.1</td>\n",
       "    </tr>\n",
       "    <tr>\n",
       "      <th>ObjectId</th>\n",
       "      <td>12.0</td>\n",
       "    </tr>\n",
       "  </tbody>\n",
       "</table>\n",
       "</div>"
      ],
      "text/plain": [
       "                 attributes\n",
       "AdmUnitId              11.0\n",
       "AnzAktiv            10700.0\n",
       "AnzAktivNeu           800.0\n",
       "AnzFall            225044.0\n",
       "AnzFall7T            5719.0\n",
       "AnzFallNeu           1498.0\n",
       "AnzGenesen         210600.0\n",
       "AnzGenesenNeu         700.0\n",
       "AnzTodesfall         3709.0\n",
       "AnzTodesfallNeu         5.0\n",
       "BundeslandId           11.0\n",
       "Inz7T                 156.1\n",
       "ObjectId               12.0"
      ]
     },
     "execution_count": 7,
     "metadata": {},
     "output_type": "execute_result"
    }
   ],
   "source": [
    "dict_berlin = berlin_data['features'][0]  # berlin_data in dict umwandeln\n",
    "df_berlin_data= pd.DataFrame(dict_berlin) # in dataframe umwandeln\n",
@@ -124,21 +310,43 @@
  },
  {
   "cell_type": "code",
   "execution_count": null,
   "execution_count": 8,
   "id": "1360be74",
   "metadata": {},
   "outputs": [],
   "outputs": [
    {
     "data": {
      "text/plain": [
       "'AnzFall'"
      ]
     },
     "execution_count": 8,
     "metadata": {},
     "output_type": "execute_result"
    }
   ],
   "source": [
    "# zum ausprobieren für mich\n",
    "df_berlin_data.index[3]"
   ]
  },
  {
   "cell_type": "code",
   "execution_count": null,
   "execution_count": 9,
   "id": "b6596c47",
   "metadata": {},
   "outputs": [],
   "outputs": [
    {
     "data": {
      "text/plain": [
       "225044.0"
      ]
     },
     "execution_count": 9,
     "metadata": {},
     "output_type": "execute_result"
    }
   ],
   "source": [
    "# zum ausprobieren für mich\n",
    "df_berlin_data['attributes']['AnzFall']"
@@ -154,37 +362,86 @@
  },
  {
   "cell_type": "code",
   "execution_count": null,
   "execution_count": 19,
   "id": "7e8fa901",
   "metadata": {},
   "outputs": [],
   "source": [
    "def extract_info(dictionary):\n",
    "def extract_info(dictionary, cityname):\n",
    "    fallzahl = dictionary['attributes']['AnzFall']\n",
    "    inzidenz= dictionary['attributes']['Inz7T']\n",
    "    fallzahl_7_tage= dictionary['attributes']['AnzFall7T']\n",
    "    new_dict= {}\n",
    "    new_dict.update(Fallzahl = fallzahl, Inzidenz_7_Tage = inzidenz, Fallzahl_7_tage = fallzahl_7_tage )\n",
    "\n",
    "    dict_final = {' ' : new_dict} #Hilfslösung - Eigentlich ist gewünscht, das als key der jeweilige Städtename eingesetzt wird\n",
    "                                # Städtename sollte in Methode als Parameter übergeben werden\n",
    "                                # Es gelingt mit nicht mit Parameter einen key zu erzeugen\n",
    "   # dict_final = {}\n",
    "   # dict_final.update(cityname = new_dict)\n",
    "    dict_final = {}\n",
    "    dict_final [cityname] = new_dict \n",
    "   \n",
    "    return pd.DataFrame(dict_final) # Ausgabe als DataFrame - Zweck: Ansicht als Tabelle\n",
    "    "
   ]
  },
  {
   "cell_type": "code",
   "execution_count": null,
   "execution_count": 20,
   "id": "f3d71688",
   "metadata": {},
   "outputs": [],
   "outputs": [
    {
     "data": {
      "text/html": [
       "<div>\n",
       "<style scoped>\n",
       "    .dataframe tbody tr th:only-of-type {\n",
       "        vertical-align: middle;\n",
       "    }\n",
       "\n",
       "    .dataframe tbody tr th {\n",
       "        vertical-align: top;\n",
       "    }\n",
       "\n",
       "    .dataframe thead th {\n",
       "        text-align: right;\n",
       "    }\n",
       "</style>\n",
       "<table border=\"1\" class=\"dataframe\">\n",
       "  <thead>\n",
       "    <tr style=\"text-align: right;\">\n",
       "      <th></th>\n",
       "      <th>Berlin</th>\n",
       "    </tr>\n",
       "  </thead>\n",
       "  <tbody>\n",
       "    <tr>\n",
       "      <th>Fallzahl</th>\n",
       "      <td>225044.0</td>\n",
       "    </tr>\n",
       "    <tr>\n",
       "      <th>Fallzahl_7_tage</th>\n",
       "      <td>5719.0</td>\n",
       "    </tr>\n",
       "    <tr>\n",
       "      <th>Inzidenz_7_Tage</th>\n",
       "      <td>156.1</td>\n",
       "    </tr>\n",
       "  </tbody>\n",
       "</table>\n",
       "</div>"
      ],
      "text/plain": [
       "                   Berlin\n",
       "Fallzahl         225044.0\n",
       "Fallzahl_7_tage    5719.0\n",
       "Inzidenz_7_Tage     156.1"
      ]
     },
     "execution_count": 20,
     "metadata": {},
     "output_type": "execute_result"
    }
   ],
   "source": [
    "berlin = extract_info(dict_berlin)\n",
    "print('Berlin', berlin)"
    "berlin = extract_info(dict_berlin, \"Berlin\")\n",
    "berlin"
   ]
  },
  {
@@ -193,12 +450,7 @@
   "id": "34ce7263",
   "metadata": {},
   "outputs": [],
   "source": [
    "# alternative Ausgabe\n",
    "berlin = extract_info(dict_berlin)\n",
    "print('Berlin')\n",
    "berlin"
   ]
   "source": []
  },
  {
   "cell_type": "markdown",
@@ -210,28 +462,134 @@
  },
  {
   "cell_type": "code",
   "execution_count": null,
   "execution_count": 17,
   "id": "ea8dcabd",
   "metadata": {},
   "outputs": [],
   "outputs": [
    {
     "data": {
      "text/html": [
       "<div>\n",
       "<style scoped>\n",
       "    .dataframe tbody tr th:only-of-type {\n",
       "        vertical-align: middle;\n",
       "    }\n",
       "\n",
       "    .dataframe tbody tr th {\n",
       "        vertical-align: top;\n",
       "    }\n",
       "\n",
       "    .dataframe thead th {\n",
       "        text-align: right;\n",
       "    }\n",
       "</style>\n",
       "<table border=\"1\" class=\"dataframe\">\n",
       "  <thead>\n",
       "    <tr style=\"text-align: right;\">\n",
       "      <th></th>\n",
       "      <th>Hamburg</th>\n",
       "    </tr>\n",
       "  </thead>\n",
       "  <tbody>\n",
       "    <tr>\n",
       "      <th>Fallzahl</th>\n",
       "      <td>99067.0</td>\n",
       "    </tr>\n",
       "    <tr>\n",
       "      <th>Fallzahl_7_tage</th>\n",
       "      <td>2134.0</td>\n",
       "    </tr>\n",
       "    <tr>\n",
       "      <th>Inzidenz_7_Tage</th>\n",
       "      <td>115.2</td>\n",
       "    </tr>\n",
       "  </tbody>\n",
       "</table>\n",
       "</div>"
      ],
      "text/plain": [
       "                 Hamburg\n",
       "Fallzahl         99067.0\n",
       "Fallzahl_7_tage   2134.0\n",
       "Inzidenz_7_Tage    115.2"
      ]
     },
     "execution_count": 17,
     "metadata": {},
     "output_type": "execute_result"
    }
   ],
   "source": [
    "# Hamburg\n",
    "dict_hamburg = hamburg_data['features'][0]  # hamburg_data in dict umwandeln\n",
    "\n",
    "hamburg = extract_info(dict_hamburg)\n",
    "print('Hamburg')\n",
    "hamburg = extract_info(dict_hamburg, \"Hamburg\")\n",
    "\n",
    "hamburg"
   ]
  },
  {
   "cell_type": "code",
   "execution_count": null,
   "execution_count": 18,
   "id": "023aa2c2",
   "metadata": {},
   "outputs": [],
   "outputs": [
    {
     "data": {
      "text/html": [
       "<div>\n",
       "<style scoped>\n",
       "    .dataframe tbody tr th:only-of-type {\n",
       "        vertical-align: middle;\n",
       "    }\n",
       "\n",
       "    .dataframe tbody tr th {\n",
       "        vertical-align: top;\n",
       "    }\n",
       "\n",
       "    .dataframe thead th {\n",
       "        text-align: right;\n",
       "    }\n",
       "</style>\n",
       "<table border=\"1\" class=\"dataframe\">\n",
       "  <thead>\n",
       "    <tr style=\"text-align: right;\">\n",
       "      <th></th>\n",
       "      <th>Berlin</th>\n",
       "    </tr>\n",
       "  </thead>\n",
       "  <tbody>\n",
       "    <tr>\n",
       "      <th>Fallzahl</th>\n",
       "      <td>225044.0</td>\n",
       "    </tr>\n",
       "    <tr>\n",
       "      <th>Fallzahl_7_tage</th>\n",
       "      <td>5719.0</td>\n",
       "    </tr>\n",
       "    <tr>\n",
       "      <th>Inzidenz_7_Tage</th>\n",
       "      <td>156.1</td>\n",
       "    </tr>\n",
       "  </tbody>\n",
       "</table>\n",
       "</div>"
      ],
      "text/plain": [
       "                   Berlin\n",
       "Fallzahl         225044.0\n",
       "Fallzahl_7_tage    5719.0\n",
       "Inzidenz_7_Tage     156.1"
      ]
     },
     "execution_count": 18,
     "metadata": {},
     "output_type": "execute_result"
    }
   ],
   "source": [
    "berlin = extract_info(dict_berlin)\n",
    "print('Berlin')\n",
    "berlin = extract_info(dict_berlin, \"Berlin\")\n",
    "\n",
    "berlin"
   ]
  },
  {
   "cell_type": "code",
   "execution_count": null,
   "id": "bb02357e",
   "metadata": {},
   "outputs": [],
   "source": []
  }
 ],
 "metadata": {
  "kernelspec": {
   "display_name": "Python 3 (ipykernel)",
   "language": "python",
   "name": "python3"
  },
  "language_info": {
   "codemirror_mode": {
    "name": "ipython",
    "version": 3
   },
   "file_extension": ".py",
   "mimetype": "text/x-python",
   "name": "python",
   "nbconvert_exporter": "python",
   "pygments_lexer": "ipython3",
   "version": "3.9.7"
  }
 },
 "nbformat": 4,
 "nbformat_minor": 5
}