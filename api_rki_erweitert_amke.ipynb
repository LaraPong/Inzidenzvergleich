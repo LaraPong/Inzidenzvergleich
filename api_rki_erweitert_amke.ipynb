{
 "cells": [
  {
   "cell_type": "markdown",
   "id": "01ba5382",
   "metadata": {},
   "source": [
    "### Funktion um Daten per Id zu laden "
   ]
  },
  {
   "cell_type": "code",
   "execution_count": null,
   "id": "34c55809",
   "metadata": {},
   "outputs": [],
   "source": [
    "import requests, json\n",
    "\n",
    "def get_data_by_id(id):\n",
    "    url = \"https://services7.arcgis.com/mOBPykOjAyBO2ZKk/arcgis/rest/services/rki_key_data_v/FeatureServer/0/query?\"\n",
    "    \n",
    "    parameter = {\n",
    "        'referer':'https://www.mywebapp.com',\n",
    "        'user-agent':'python-requests/2.9.1',\n",
    "        'where': f'AdmUnitId = {id}', # Welche landkreise sollen zurück gegeben werden\n",
    "        'outFields': '*', # Rückgabe aller Felder\n",
    "        'returnGeometry': False, # Keine Geometrien\n",
    "        'f':'json', # Rückgabeformat, hier JSON\n",
    "        'cacheHint': True # Zugriff über CDN anfragen\n",
    "    }\n",
    "    result = requests.get(url=url, params=parameter) #Anfrage absetzen\n",
    "    return json.loads(result.text) # Das Ergebnis JSON als Python Dictionary laden"
   ]
  },
  {
   "cell_type": "markdown",
   "id": "25b08ac4",
   "metadata": {},
   "source": [
    "### Die 10 größten Städte Deutschlands mit AdminUnitId"
   ]
  },
  {
   "cell_type": "code",
   "execution_count": null,
   "id": "0e04c801",
   "metadata": {},
   "outputs": [],
   "source": [
    "import pandas as pd\n",
    "\n",
    "# als dictionary\n",
    "große_staedte= {'AdminUnitId': {\n",
    "  'Berlin': 11,\n",
    "  'München': 9162,\n",
    "  'Hamburg': 2000,\n",
    "  'Köln': 5315,\n",
    "  'Frankfurt': 6412,\n",
    "  'Stuttgart': 8111,\n",
    "  'Düsseldurf': 5111,\n",
    "  'Dortmund': 5913,\n",
    "  'Essen': 5113, }}\n",
    "\n",
    "# umwandlung in dataframe\n",
    "df_gr_staedte= pd.DataFrame(große_staedte)\n",
    "df_gr_staedte"
   ]
  },
  {
   "cell_type": "markdown",
   "id": "27a02288",
   "metadata": {},
   "source": [
    "### Datensätze des RKI für die 10 größten Städte\n"
   ]
  },
  {
   "cell_type": "code",
   "execution_count": null,
   "id": "c01dec62",
   "metadata": {},
   "outputs": [],
   "source": [
    "berlin_data= get_data_by_id(11)\n",
    "dortmund_data= get_data_by_id(5913)\n",
    "düsseldorf_data= get_data_by_id(5111)\n",
    "essen_data= get_data_by_id(5113)\n",
    "frankfurt_data= get_data_by_id(6412)\n",
    "hamburg_data= get_data_by_id(2000)\n",
    "köln_data= get_data_by_id(5315)\n",
    "münchen_data= get_data_by_id(9162)\n",
    "stuttgart_data= get_data_by_id(6412)"
   ]
  },
  {
   "cell_type": "markdown",
   "id": "ae3e8f9f",
   "metadata": {},
   "source": [
    "Quelle für AdminUnitId: https://npgeo-corona-npgeo-de.hub.arcgis.com/datasets/917fc37a709542548cc3be077a786c17_0/explore"
   ]
  },
  {
   "cell_type": "markdown",
   "id": "5fc924ca",
   "metadata": {},
   "source": [
    "### Datensatz RKI  - hier Berlin"
   ]
  },
  {
   "cell_type": "code",
   "execution_count": null,
   "id": "5f3c4ef4",
   "metadata": {},
   "outputs": [],
   "source": [
    "dict_berlin = berlin_data['features'][0]  # berlin_data in dict umwandeln\n",
    "df_berlin_data= pd.DataFrame(dict_berlin) # in dataframe umwandeln\n",
    "\n",
    "df_berlin_data"
   ]
  },
  {
   "cell_type": "code",
   "execution_count": null,
   "id": "1360be74",
   "metadata": {},
   "outputs": [],
   "source": [
    "# zum ausprobieren für mich\n",
    "df_berlin_data.index[3]"
   ]
  },
  {
   "cell_type": "code",
   "execution_count": null,
   "id": "b6596c47",
   "metadata": {},
   "outputs": [],
   "source": [
    "# zum ausprobieren für mich\n",
    "df_berlin_data['attributes']['AnzFall']"
   ]
  },
  {
   "cell_type": "markdown",
   "id": "192b98fe",
   "metadata": {},
   "source": [
    "### Definition um nur einzelne Daten zu extrahieren"
   ]
  },
  {
   "cell_type": "code",
   "execution_count": null,
   "id": "7e8fa901",
   "metadata": {},
   "outputs": [],
   "source": [
    "def extract_info(dictionary):\n",
    "    fallzahl = dictionary['attributes']['AnzFall']\n",
    "    inzidenz= dictionary['attributes']['Inz7T']\n",
    "    fallzahl_7_tage= dictionary['attributes']['AnzFall7T']\n",
    "    new_dict= {}\n",
    "    new_dict.update(Fallzahl = fallzahl, Inzidenz_7_Tage = inzidenz, Fallzahl_7_tage = fallzahl_7_tage )\n",
    "\n",
    "    dict_final = {' ' : new_dict} #Hilfslösung - Eigentlich ist gewünscht, das als key der jeweilige Städtename eingesetzt wird\n",
    "                                # Städtename sollte in Methode als Parameter übergeben werden\n",
    "                                # Es gelingt mit nicht mit Parameter einen key zu erzeugen\n",
    "   # dict_final = {}\n",
    "   # dict_final.update(cityname = new_dict)\n",
    "   \n",
    "    return pd.DataFrame(dict_final) # Ausgabe als DataFrame - Zweck: Ansicht als Tabelle\n",
    "    "
   ]
  },
  {
   "cell_type": "code",
   "execution_count": null,
   "id": "f3d71688",
   "metadata": {},
   "outputs": [],
   "source": [
    "berlin = extract_info(dict_berlin)\n",
    "print('Berlin', berlin)"
   ]
  },
  {
   "cell_type": "code",
   "execution_count": null,
   "id": "34ce7263",
   "metadata": {},
   "outputs": [],
   "source": [
    "# alternative Ausgabe\n",
    "berlin = extract_info(dict_berlin)\n",
    "print('Berlin')\n",
    "berlin"
   ]
  },
  {
   "cell_type": "markdown",
   "id": "49cf53c9",
   "metadata": {},
   "source": [
    "### Städte im Vergleich"
   ]
  },
  {
   "cell_type": "code",
   "execution_count": null,
   "id": "ea8dcabd",
   "metadata": {},
   "outputs": [],
   "source": [
    "# Hamburg\n",
    "dict_hamburg = hamburg_data['features'][0]  # hamburg_data in dict umwandeln\n",
    "\n",
    "hamburg = extract_info(dict_hamburg)\n",
    "print('Hamburg')\n",
    "hamburg"
   ]
  },
  {
   "cell_type": "code",
   "execution_count": null,
   "id": "023aa2c2",
   "metadata": {},
   "outputs": [],
   "source": [
    "berlin = extract_info(dict_berlin)\n",
    "print('Berlin')\n",
    "berlin"
   ]
  },
  {
   "cell_type": "code",
   "execution_count": null,
   "id": "bb02357e",
   "metadata": {},
   "outputs": [],
   "source": []
  }
 ],
 "metadata": {
  "kernelspec": {
   "display_name": "Python 3 (ipykernel)",
   "language": "python",
   "name": "python3"
  },
  "language_info": {
   "codemirror_mode": {
    "name": "ipython",
    "version": 3
   },
   "file_extension": ".py",
   "mimetype": "text/x-python",
   "name": "python",
   "nbconvert_exporter": "python",
   "pygments_lexer": "ipython3",
   "version": "3.9.7"
  }
 },
 "nbformat": 4,
 "nbformat_minor": 5
}
