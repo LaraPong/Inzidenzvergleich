{
 "cells": [
  {
   "cell_type": "code",
   "execution_count": 7,
   "metadata": {},
   "outputs": [
    {
     "name": "stdout",
     "output_type": "stream",
     "text": [
      "ncumul_conf : 17599\n",
      "to_skip : False\n",
      "name : Basel-Stadt\n",
      "current_quarantined : 436\n",
      "ncumul_released : 16759\n",
      "update : 2021-11-14T11:50:00+00:00\n",
      "ncumul_deceased : 223\n",
      "geo_point_2d : [47.5650398887, 7.61506192372]\n",
      "source : https://www.gesundheit.bs.ch\n",
      "date : 2021-11-14\n",
      "current_isolated : 617\n",
      "abbreviation_canton_and_fl : BS\n"
     ]
    }
   ],
   "source": [
    "#Baselstadt\n",
    "import requests,json\n",
    "url =\"https://data.bs.ch/api/records/1.0/search/?dataset=100077&q=&sort=update&refine.abbreviation_canton_and_fl=BS\"\n",
    "result = requests.get(url=url) #Anfrage absetzen\n",
    "resultjson = json.loads(result.text)\n",
    "newjson=resultjson['records'][0]['fields']\n",
    "\n",
    "for key in newjson:\n",
    "    print(key, \":\", newjson[key])"
   ]
  },
  {
   "cell_type": "code",
   "execution_count": 8,
   "metadata": {},
   "outputs": [
    {
     "name": "stdout",
     "output_type": "stream",
     "text": [
      "ncumul_conf : 63588\n",
      "to_skip : False\n",
      "current_quarantined : 947\n",
      "ncumul_hosp : 42\n",
      "ncumul_released : 60275\n",
      "update : 2021-11-11T07:00:00+00:00\n",
      "geo_point_2d : [47.4100189008, 8.15674415112]\n",
      "ncumul_deceased : 744\n",
      "current_isolated : 1541\n",
      "current_hosp : 42\n",
      "source : https://www.ag.ch/media/kanton_aargau/themen_1/coronavirus_1/daten_excel/Covid-19-Daten_Kanton_Aargau.xlsx\n",
      "current_quarantined_riskareatravel : 0\n",
      "date : 2021-11-11\n",
      "abbreviation_canton_and_fl : AG\n",
      "current_icu : 8\n",
      "ncumul_icu : 8\n",
      "name : Aargau\n"
     ]
    }
   ],
   "source": [
    "#Aargau\n",
    "import requests,json\n",
    "url =\"https://data.bs.ch/api/records/1.0/search/?dataset=100077&q=&sort=update&facet=date&facet=name&facet=abbreviation_canton_and_fl&refine.abbreviation_canton_and_fl=AG\"\n",
    "result = requests.get(url=url) #Anfrage absetzen\n",
    "resultjson = json.loads(result.text)\n",
    "newjson=resultjson['records'][0]['fields']\n",
    "\n",
    "for key in newjson:\n",
    "    print(key, \":\", newjson[key])"
   ]
  },
  {
   "cell_type": "code",
   "execution_count": 5,
   "metadata": {},
   "outputs": [
    {
     "name": "stdout",
     "output_type": "stream",
     "text": [
      "ncumul_conf : 24843\n",
      "to_skip : False\n",
      "name : Basel-Landschaft\n",
      "ncumul_hosp : 22\n",
      "update : 2021-11-10T23:00:00+00:00\n",
      "geo_point_2d : [47.4518146486, 7.70199830047]\n",
      "ncumul_deceased : 235\n",
      "current_isolated : 856\n",
      "current_hosp : 22\n",
      "source : https://www.baselland.ch/politik-und-behorden/direktionen/volkswirtschafts-und-gesundheitsdirektion/amt-fur-gesundheit/medizinische-dienste/kantonsarztlicher-dienst/aktuelles/covid-19-faelle-kanton-basel-landschaft\n",
      "date : 2021-11-11\n",
      "current_icu : 1\n",
      "ncumul_icu : 1\n",
      "abbreviation_canton_and_fl : BL\n"
     ]
    }
   ],
   "source": [
    "#Basel-Landschaft\n",
    "import requests,json\n",
    "url =\"https://data.bs.ch/api/records/1.0/search/?dataset=100077&q=&sort=update&facet=date&facet=name&facet=abbreviation_canton_and_fl&refine.abbreviation_canton_and_fl=BL\"\n",
    "result = requests.get(url=url) #Anfrage absetzen\n",
    "resultjson = json.loads(result.text)\n",
    "newjson=resultjson['records'][0]['fields']\n",
    "\n",
    "for key in newjson:\n",
    "    print(key, \":\", newjson[key])"
   ]
  },
  {
   "cell_type": "code",
   "execution_count": 9,
   "metadata": {},
   "outputs": [
    {
     "name": "stdout",
     "output_type": "stream",
     "text": [
      "ncumul_conf : 19249\n",
      "current_vent : 3\n",
      "to_skip : False\n",
      "current_quarantined : 1111\n",
      "ncumul_hosp : 32\n",
      "update : 2021-11-13T23:00:00+00:00\n",
      "geo_point_2d : [46.6560833194, 9.62869939932]\n",
      "ncumul_deceased : 204\n",
      "current_isolated : 1182\n",
      "current_hosp : 32\n",
      "source : https://services1.arcgis.com/YAuo6vcW85VPu7OE/arcgis/rest/services/Fallzahlen_Total_Kanton/FeatureServer/0/query?where=1%3D1&objectIds=&time=&resultType=none&outFields=*&returnHiddenFields=false&returnIdsOnly=false&returnUniqueIdsOnly=false&returnCountOnly=false&returnDistinctValues=false&cacheHint=false&orderByFields=Eingangs_Datum&groupByFieldsForStatistics=&outStatistics=&having=&resultOffset=&resultRecordCount=&sqlFormat=standard&f=pjson\n",
      "ncumul_vent : 3\n",
      "date : 2021-11-14\n",
      "abbreviation_canton_and_fl : GR\n",
      "current_icu : 5\n",
      "ncumul_icu : 5\n",
      "name : Graubünden\n"
     ]
    }
   ],
   "source": [
    "#Graubündens\n",
    "import requests,json\n",
    "url =\"https://data.bs.ch/api/records/1.0/search/?dataset=100077&q=&sort=update&facet=date&facet=name&facet=abbreviation_canton_and_fl&refine.abbreviation_canton_and_fl=GR\"\n",
    "result = requests.get(url=url) #Anfrage absetzen\n",
    "resultjson = json.loads(result.text)\n",
    "newjson=resultjson['records'][0]['fields']\n",
    "\n",
    "for key in newjson:\n",
    "    print(key, \":\", newjson[key])"
   ]
  },
  {
   "cell_type": "code",
   "execution_count": null,
   "metadata": {},
   "outputs": [],
   "source": []
  }
 ],
 "metadata": {
  "kernelspec": {
   "display_name": "Python 3",
   "language": "python",
   "name": "python3"
  },
  "language_info": {
   "codemirror_mode": {
    "name": "ipython",
    "version": 3
   },
   "file_extension": ".py",
   "mimetype": "text/x-python",
   "name": "python",
   "nbconvert_exporter": "python",
   "pygments_lexer": "ipython3",
   "version": "3.8.5"
  }
 },
 "nbformat": 4,
 "nbformat_minor": 4
}
