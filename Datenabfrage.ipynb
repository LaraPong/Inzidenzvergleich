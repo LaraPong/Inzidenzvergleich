{
 "cells": [
  {
   "cell_type": "code",
   "execution_count": 1,
   "metadata": {},
   "outputs": [
    {
     "name": "stdout",
     "output_type": "stream",
     "text": [
      "{'AdmUnitId': 5566, 'BundeslandId': 5, 'AnzFall': 20617, 'AnzTodesfall': 336, 'AnzFallNeu': 53, 'AnzTodesfallNeu': 1, 'AnzFall7T': 236, 'AnzGenesen': 19900, 'AnzGenesenNeu': 0, 'AnzAktiv': 400, 'AnzAktivNeu': 0, 'Inz7T': 52.7, 'ObjectId': 137}\n"
     ]
    }
   ],
   "source": [
    "import requests, json\n",
    "\n",
    "url = \"https://services7.arcgis.com/mOBPykOjAyBO2ZKk/arcgis/rest/services/rki_key_data_v/FeatureServer/0/query?\"\n",
    "lk_id = 5566 # ID für den Kreis Steinfurt gemäß AdmUnit Tabelle\n",
    "parameter = {\n",
    "    'referer':'https://www.mywebapp.com',\n",
    "    'user-agent':'python-requests/2.9.1',\n",
    "    'where': f'AdmUnitId = {lk_id}', # Welche landkreise sollen zurück gegeben werden\n",
    "    'outFields': '*', # Rückgabe aller Felder\n",
    "    'returnGeometry': False, # Keine Geometrien\n",
    "    'f':'json', # Rückgabeformat, hier JSON\n",
    "    'cacheHint': True # Zugriff über CDN anfragen\n",
    "}\n",
    "result = requests.get(url=url, params=parameter) #Anfrage absetzen\n",
    "resultjson = json.loads(result.text) # Das Ergebnis JSON als Python Dictionary laden\n",
    "print(resultjson['features'][0]['attributes']) # Wir erwarten genau einen Datensatz, Ausgabe aller Attribute"
   ]
  },
  {
   "cell_type": "code",
   "execution_count": null,
   "metadata": {},
   "outputs": [],
   "source": []
  }
 ],
 "metadata": {
  "kernelspec": {
   "display_name": "Python 3",
   "language": "python",
   "name": "python3"
  },
  "language_info": {
   "codemirror_mode": {
    "name": "ipython",
    "version": 3
   },
   "file_extension": ".py",
   "mimetype": "text/x-python",
   "name": "python",
   "nbconvert_exporter": "python",
   "pygments_lexer": "ipython3",
   "version": "3.6.9"
  }
 },
 "nbformat": 4,
 "nbformat_minor": 2
}
