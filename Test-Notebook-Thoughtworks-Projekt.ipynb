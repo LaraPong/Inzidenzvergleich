{
 "cells": [
  {
   "cell_type": "markdown",
   "id": "0a5c2527",
   "metadata": {},
   "source": [
    "Test-Notebook"
   ]
  },
  {
   "cell_type": "code",
   "execution_count": null,
   "id": "7e9184c0",
   "metadata": {},
   "outputs": [],
   "source": [
    "1+2"
   ]
  },
  {
   "cell_type": "markdown",
   "id": "e49202af",
   "metadata": {},
   "source": [
    "Test war erfolgreich."
   ]
  },
  {
   "cell_type": "code",
   "execution_count": 8,
   "id": "b4a207ef",
   "metadata": {},
   "outputs": [
    {
     "name": "stdout",
     "output_type": "stream",
     "text": [
      "2021-10-20 00:00:00\n"
     ]
    }
   ],
   "source": [
    "#Excel-Datei auslesen mit Openpyxl und Pandas (Meine Datei heißt InzidenzenPolenDeutschland.xlsx ud ist ein Abzug, \n",
    "#aus der Datei unserer Auftraggeber*innen)\n",
    "import openpyxl\n",
    "import pandas\n",
    "\n",
    "fileXLSX = openpyxl.load_workbook('InzidenzenPolenDeutschland.xlsx')\n",
    "\n",
    "sheet = fileXLSX[\"Tabelle1\"]\n",
    "\n",
    "print(sheet['A2'].value)"
   ]
  },
  {
   "cell_type": "code",
   "execution_count": 9,
   "id": "54aef565",
   "metadata": {},
   "outputs": [
    {
     "name": "stdout",
     "output_type": "stream",
     "text": [
      "B2 97\n",
      "B3 47\n",
      "B4 46\n",
      "B5 44\n",
      "B6 51\n",
      "B7 54\n",
      "B8 45\n",
      "B9 50\n",
      "B10 47\n"
     ]
    }
   ],
   "source": [
    "for row in sheet['B2':'B10']:\n",
    "    for col in row:\n",
    "        print(col.coordinate, col.value)"
   ]
  },
  {
   "cell_type": "code",
   "execution_count": 10,
   "id": "fcaa69f7",
   "metadata": {},
   "outputs": [
    {
     "name": "stdout",
     "output_type": "stream",
     "text": [
      "1788.204413091625\n"
     ]
    }
   ],
   "source": [
    "#Versuch, Inzidenz aus meiner Excel-Datei auszulesen\n",
    "#leider gescheitert\n",
    "berlin=3669491\n",
    "\n",
    "bc=sheet['F2'].value+sheet['F3'].value+sheet['F4'].value+sheet['F5'].value+sheet['F6'].value+sheet['F7'].value+sheet['F8'].value\n",
    "\n",
    "inz=bc*100000/berlin\n",
    "\n",
    "print(inz)"
   ]
  },
  {
   "cell_type": "code",
   "execution_count": 5,
   "id": "851e8a53",
   "metadata": {},
   "outputs": [
    {
     "name": "stdout",
     "output_type": "stream",
     "text": [
      "{'AdmUnitId': 11001, 'BundeslandId': 11, 'AnzFall': 27990, 'AnzTodesfall': 332, 'AnzFallNeu': 152, 'AnzTodesfallNeu': 2, 'AnzFall7T': 626, 'AnzGenesen': 25800, 'AnzGenesenNeu': 0, 'AnzAktiv': 1900, 'AnzAktivNeu': 100, 'Inz7T': 167.1, 'ObjectId': 266}\n"
     ]
    }
   ],
   "source": [
    "#API vom RKI von Laras Reposoitory mit Landkreis-ID von Berlin\n",
    "import requests, json\n",
    "\n",
    "url = \"https://services7.arcgis.com/mOBPykOjAyBO2ZKk/arcgis/rest/services/rki_key_data_v/FeatureServer/0/query?\"\n",
    "lk_id = 11001 # ID für den Kreis Berlin gemäß AdmUnit Tabelle\n",
    "parameter = {\n",
    "    'referer':'https://www.mywebapp.com',\n",
    "    'user-agent':'python-requests/2.9.1',\n",
    "    'where': f'AdmUnitId = {lk_id}', # Welche landkreise sollen zurück gegeben werden\n",
    "    'outFields': '*', # Rückgabe aller Felder\n",
    "    'returnGeometry': False, # Keine Geometrien\n",
    "    'f':'json', # Rückgabeformat, hier JSON\n",
    "    'cacheHint': True # Zugriff über CDN anfragen\n",
    "}\n",
    "result = requests.get(url=url, params=parameter) #Anfrage absetzen\n",
    "resultjson = json.loads(result.text) # Das Ergebnis JSON als Python Dictionary laden\n",
    "print(resultjson['features'][0]['attributes']) # Wir erwarten genau einen Datensatz, Ausgabe aller Attribute"
   ]
  },
  {
   "cell_type": "code",
   "execution_count": 6,
   "id": "125303c6",
   "metadata": {},
   "outputs": [
    {
     "name": "stdout",
     "output_type": "stream",
     "text": [
      "AdmUnitId : 11001\n",
      "BundeslandId : 11\n",
      "AnzFall : 27990\n",
      "AnzTodesfall : 332\n",
      "AnzFallNeu : 152\n",
      "AnzTodesfallNeu : 2\n",
      "AnzFall7T : 626\n",
      "AnzGenesen : 25800\n",
      "AnzGenesenNeu : 0\n",
      "AnzAktiv : 1900\n",
      "AnzAktivNeu : 100\n",
      "Inz7T : 167.1\n",
      "ObjectId : 266\n"
     ]
    }
   ],
   "source": [
    "newjson=resultjson['features'][0]['attributes']\n",
    "\n",
    "for key in newjson:\n",
    "    print(key, \":\", newjson[key])"
   ]
  },
  {
   "cell_type": "code",
   "execution_count": 7,
   "id": "16caac92",
   "metadata": {},
   "outputs": [
    {
     "name": "stdout",
     "output_type": "stream",
     "text": [
      "{'objectIdFieldName': 'ObjectId', 'uniqueIdField': {'name': 'ObjectId', 'isSystemMaintained': True}, 'globalIdFieldName': '', 'fields': [{'name': 'AdmUnitId', 'type': 'esriFieldTypeInteger', 'alias': 'AdmUnitId', 'sqlType': 'sqlTypeInteger', 'domain': None, 'defaultValue': None}, {'name': 'BundeslandId', 'type': 'esriFieldTypeInteger', 'alias': 'BundeslandId', 'sqlType': 'sqlTypeInteger', 'domain': None, 'defaultValue': None}, {'name': 'AnzFall', 'type': 'esriFieldTypeInteger', 'alias': 'AnzFall', 'sqlType': 'sqlTypeInteger', 'domain': None, 'defaultValue': None}, {'name': 'AnzTodesfall', 'type': 'esriFieldTypeInteger', 'alias': 'AnzTodesfall', 'sqlType': 'sqlTypeInteger', 'domain': None, 'defaultValue': None}, {'name': 'AnzFallNeu', 'type': 'esriFieldTypeInteger', 'alias': 'AnzFallNeu', 'sqlType': 'sqlTypeInteger', 'domain': None, 'defaultValue': None}, {'name': 'AnzTodesfallNeu', 'type': 'esriFieldTypeInteger', 'alias': 'AnzTodesfallNeu', 'sqlType': 'sqlTypeInteger', 'domain': None, 'defaultValue': None}, {'name': 'AnzFall7T', 'type': 'esriFieldTypeInteger', 'alias': 'AnzFall7T', 'sqlType': 'sqlTypeInteger', 'domain': None, 'defaultValue': None}, {'name': 'AnzGenesen', 'type': 'esriFieldTypeInteger', 'alias': 'AnzGenesen', 'sqlType': 'sqlTypeInteger', 'domain': None, 'defaultValue': None}, {'name': 'AnzGenesenNeu', 'type': 'esriFieldTypeInteger', 'alias': 'AnzGenesenNeu', 'sqlType': 'sqlTypeInteger', 'domain': None, 'defaultValue': None}, {'name': 'AnzAktiv', 'type': 'esriFieldTypeInteger', 'alias': 'AnzAktiv', 'sqlType': 'sqlTypeInteger', 'domain': None, 'defaultValue': None}, {'name': 'AnzAktivNeu', 'type': 'esriFieldTypeInteger', 'alias': 'AnzAktivNeu', 'sqlType': 'sqlTypeInteger', 'domain': None, 'defaultValue': None}, {'name': 'Inz7T', 'type': 'esriFieldTypeDouble', 'alias': 'Inz7T', 'sqlType': 'sqlTypeFloat', 'domain': None, 'defaultValue': None}, {'name': 'ObjectId', 'type': 'esriFieldTypeOID', 'alias': 'ObjectId', 'sqlType': 'sqlTypeInteger', 'domain': None, 'defaultValue': None}], 'features': [{'attributes': {'AdmUnitId': 11001, 'BundeslandId': 11, 'AnzFall': 27990, 'AnzTodesfall': 332, 'AnzFallNeu': 152, 'AnzTodesfallNeu': 2, 'AnzFall7T': 626, 'AnzGenesen': 25800, 'AnzGenesenNeu': 0, 'AnzAktiv': 1900, 'AnzAktivNeu': 100, 'Inz7T': 167.1, 'ObjectId': 266}}]}\n",
      "167.1\n"
     ]
    }
   ],
   "source": [
    "#Directory in Json-String verändert\n",
    "#unnötig für weiteeres Vorgehen\n",
    "json_object = json.dumps(resultjson, indent = 4) \n",
    "object = json.loads(json_object)\n",
    "print(object)\n",
    "print(object['features'][0]['attributes']['Inz7T'])"
   ]
  },
  {
   "cell_type": "code",
   "execution_count": 8,
   "id": "e1d0f90e",
   "metadata": {},
   "outputs": [
    {
     "name": "stdout",
     "output_type": "stream",
     "text": [
      "content\n"
     ]
    }
   ],
   "source": [
    "#Beispielcode zum Auslesen einer Directory\n",
    "jsonString = '{\"test\": \"testValue\",\"test2\": \"content\"}'\n",
    "\n",
    "obj = json.loads(jsonString)\n",
    "\n",
    "print(obj[\"test2\"])"
   ]
  },
  {
   "cell_type": "code",
   "execution_count": 9,
   "id": "64063970",
   "metadata": {},
   "outputs": [
    {
     "name": "stdout",
     "output_type": "stream",
     "text": [
      "7-Tage-Inzidenz : 167.1\n"
     ]
    }
   ],
   "source": [
    "print('7-Tage-Inzidenz :', object['features'][0]['attributes']['Inz7T'])\n"
   ]
  },
  {
   "cell_type": "code",
   "execution_count": 10,
   "id": "105a51df",
   "metadata": {},
   "outputs": [
    {
     "name": "stdout",
     "output_type": "stream",
     "text": [
      "167.1\n"
     ]
    }
   ],
   "source": [
    "print(resultjson['features'][0]['attributes']['Inz7T'])"
   ]
  },
  {
   "cell_type": "code",
   "execution_count": 59,
   "id": "7b88a92d",
   "metadata": {},
   "outputs": [],
   "source": [
    "#Zugriff auf Dokumentation mit ?\n",
    "import pandas as pd\n",
    "pd.Series?"
   ]
  },
  {
   "cell_type": "code",
   "execution_count": 14,
   "id": "99cfecdc",
   "metadata": {},
   "outputs": [
    {
     "data": {
      "image/png": "[encoded data removed]",
      "text/plain": [
       "<Figure size 640x480 with 1 Axes>"
      ]
     },
     "metadata": {},
     "output_type": "display_data"
    }
   ],
   "source": [
    "#Beispielcode zum Erstellen eines Balkendiagrammes\n",
    "import matplotlib.pyplot as plt\n",
    "\n",
    "ywerte = [4, 7, 1, 9, 5, 2, 8]\n",
    "xwerte = [1, 2, 3, 4, 5, 6, 7]\n",
    "plt.bar(xwerte, ywerte)\n",
    "plt.xlabel(\"X-Werte\")\n",
    "plt.ylabel(\"Y-Werte\")\n",
    "plt.show()"
   ]
  },
  {
   "cell_type": "code",
   "execution_count": 15,
   "id": "7f824363",
   "metadata": {},
   "outputs": [
    {
     "name": "stdout",
     "output_type": "stream",
     "text": [
      "79\n"
     ]
    }
   ],
   "source": [
    "#Inzidenz von Steinfurt\n",
    "url = \"https://services7.arcgis.com/mOBPykOjAyBO2ZKk/arcgis/rest/services/rki_key_data_v/FeatureServer/0/query?\"\n",
    "lk_id = 5566 # ID für den Kreis Steinfurt gemäß AdmUnit Tabelle\n",
    "parameter = {\n",
    "    'referer':'https://www.mywebapp.com',\n",
    "    'user-agent':'python-requests/2.9.1',\n",
    "    'where': f'AdmUnitId = {lk_id}', # Welche landkreise sollen zurück gegeben werden\n",
    "    'outFields': '*', # Rückgabe aller Felder\n",
    "    'returnGeometry': False, # Keine Geometrien\n",
    "    'f':'json', # Rückgabeformat, hier JSON\n",
    "    'cacheHint': True # Zugriff über CDN anfragen\n",
    "}\n",
    "result2 = requests.get(url=url, params=parameter) #Anfrage absetzen\n",
    "resultjson2 = json.loads(result2.text) # Das Ergebnis JSON als Python Dictionary laden\n",
    "print(resultjson2['features'][0]['attributes']['Inz7T']) # Wir erwarten genau einen Datensatz, Ausgabe aller Attribute"
   ]
  },
  {
   "cell_type": "code",
   "execution_count": 20,
   "id": "4d88f7d8",
   "metadata": {},
   "outputs": [
    {
     "data": {
      "image/png": "[encoded data removed]",
      "text/plain": [
       "<Figure size 640x480 with 1 Axes>"
      ]
     },
     "metadata": {},
     "output_type": "display_data"
    }
   ],
   "source": [
    "#Balkendiagramm mit den Inzidenzen von Berlin und Steinfurt\n",
    "steinfurt=resultjson2['features'][0]['attributes']['Inz7T']\n",
    "berlin=resultjson['features'][0]['attributes']['Inz7T']\n",
    "ywerte = [steinfurt, berlin]\n",
    "xwerte = ['Steinfurt', 'Berlin']\n",
    "plt.bar(xwerte, ywerte)\n",
    "plt.xlabel(\"Orte\")\n",
    "plt.ylabel(\"Inzidenzen\")\n",
    "plt.show()"
   ]
  },
  {
   "cell_type": "code",
   "execution_count": null,
   "id": "771c20a3",
   "metadata": {},
   "outputs": [],
   "source": []
  }
 ],
 "metadata": {
  "kernelspec": {
   "display_name": "Python 3",
   "language": "python",
   "name": "python3"
  },
  "language_info": {
   "codemirror_mode": {
    "name": "ipython",
    "version": 3
   },
   "file_extension": ".py",
   "mimetype": "text/x-python",
   "name": "python",
   "nbconvert_exporter": "python",
   "pygments_lexer": "ipython3",
   "version": "3.9.6"
  }
 },
 "nbformat": 4,
 "nbformat_minor": 5
}
