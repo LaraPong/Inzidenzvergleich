{
 "cells": [
  {
   "cell_type": "markdown",
   "id": "0a5c2527",
   "metadata": {},
   "source": [
    "Test-Notebook"
   ]
  },
  {
   "cell_type": "code",
   "execution_count": null,
   "id": "7e9184c0",
   "metadata": {},
   "outputs": [],
   "source": [
    "1+2"
   ]
  },
  {
   "cell_type": "markdown",
   "id": "e49202af",
   "metadata": {},
   "source": [
    "Test war erfolgreich."
   ]
  },
  {
   "cell_type": "code",
   "execution_count": null,
   "id": "b4a207ef",
   "metadata": {},
   "outputs": [],
   "source": [
    "#Excel-Datei auslesen mit Openpyxl und Pandas (Meine Datei heißt InzidenzenPolenDeutschland.xlsx ud ist ein Abzug, \n",
    "#aus der Datei unserer Auftraggeber*innen)\n",
    "import openpyxl\n",
    "import pandas\n",
    "\n",
    "fileXLSX = openpyxl.load_workbook('InzidenzenPolenDeutschland.xlsx')\n",
    "\n",
    "sheet = fileXLSX[\"Tabelle1\"]\n",
    "\n",
    "print(sheet['A2'].value)"
   ]
  },
  {
   "cell_type": "code",
   "execution_count": null,
   "id": "54aef565",
   "metadata": {},
   "outputs": [],
   "source": [
    "for row in sheet['B2':'B10']:\n",
    "    for col in row:\n",
    "        print(col.coordinate, col.value)"
   ]
  },
  {
   "cell_type": "code",
   "execution_count": null,
   "id": "fcaa69f7",
   "metadata": {},
   "outputs": [],
   "source": [
    "#Versuch, Inzidenz aus meiner Excel-Datei auszulesen\n",
    "#leider gescheitert\n",
    "berlin=3669491\n",
    "\n",
    "bc=sheet['F2'].value+sheet['F3'].value+sheet['F4'].value+sheet['F5'].value+sheet['F6'].value+sheet['F7'].value+sheet['F8'].value\n",
    "\n",
    "inz=bc*100000/berlin\n",
    "\n",
    "print(inz)"
   ]
  },
  {
   "cell_type": "code",
   "execution_count": null,
   "id": "851e8a53",
   "metadata": {},
   "outputs": [],
   "source": [
    "#API vom RKI von Laras Reposoitory mit Landkreis-ID von Berlin\n",
    "import requests, json\n",
    "\n",
    "url = \"https://services7.arcgis.com/mOBPykOjAyBO2ZKk/arcgis/rest/services/rki_key_data_v/FeatureServer/0/query?\"\n",
    "lk_id = 11001 # ID für den Kreis Berlin gemäß AdmUnit Tabelle\n",
    "parameter = {\n",
    "    'referer':'https://www.mywebapp.com',\n",
    "    'user-agent':'python-requests/2.9.1',\n",
    "    'where': f'AdmUnitId = {lk_id}', # Welche landkreise sollen zurück gegeben werden\n",
    "    'outFields': '*', # Rückgabe aller Felder\n",
    "    'returnGeometry': False, # Keine Geometrien\n",
    "    'f':'json', # Rückgabeformat, hier JSON\n",
    "    'cacheHint': True # Zugriff über CDN anfragen\n",
    "}\n",
    "result = requests.get(url=url, params=parameter) #Anfrage absetzen\n",
    "resultjson = json.loads(result.text) # Das Ergebnis JSON als Python Dictionary laden\n",
    "print(resultjson['features'][0]['attributes']) # Wir erwarten genau einen Datensatz, Ausgabe aller Attribute"
   ]
  },
  {
   "cell_type": "code",
   "execution_count": null,
   "id": "125303c6",
   "metadata": {},
   "outputs": [],
   "source": [
    "newjson=resultjson['features'][0]['attributes']\n",
    "\n",
    "for key in newjson:\n",
    "    print(key, \":\", newjson[key])"
   ]
  },
  {
   "cell_type": "code",
   "execution_count": null,
   "id": "16caac92",
   "metadata": {},
   "outputs": [],
   "source": [
    "#Directory in Json-String verändert\n",
    "#unnötig für weiteeres Vorgehen\n",
    "json_object = json.dumps(resultjson, indent = 4) \n",
    "object = json.loads(json_object)\n",
    "print(object)\n",
    "print(object['features'][0]['attributes']['Inz7T'])"
   ]
  },
  {
   "cell_type": "code",
   "execution_count": null,
   "id": "e1d0f90e",
   "metadata": {},
   "outputs": [],
   "source": [
    "#Beispielcode zum Auslesen einer Directory\n",
    "jsonString = '{\"test\": \"testValue\",\"test2\": \"content\"}'\n",
    "\n",
    "obj = json.loads(jsonString)\n",
    "\n",
    "print(obj[\"test2\"])"
   ]
  },
  {
   "cell_type": "code",
   "execution_count": null,
   "id": "64063970",
   "metadata": {},
   "outputs": [],
   "source": [
    "print('7-Tage-Inzidenz :', object['features'][0]['attributes']['Inz7T'])\n"
   ]
  },
  {
   "cell_type": "code",
   "execution_count": null,
   "id": "105a51df",
   "metadata": {},
   "outputs": [],
   "source": [
    "print(resultjson['features'][0]['attributes']['Inz7T'])"
   ]
  },
  {
   "cell_type": "code",
   "execution_count": 16,
   "id": "7b88a92d",
   "metadata": {},
   "outputs": [],
   "source": [
    "#Zugriff auf Dokumentation mit ?\n",
    "import pandas as pd\n",
    "pd.Series?"
   ]
  },
  {
   "cell_type": "code",
   "execution_count": null,
   "id": "99cfecdc",
   "metadata": {},
   "outputs": [],
   "source": [
    "#Beispielcode zum Erstellen eines Balkendiagrammes\n",
    "import matplotlib.pyplot as plt\n",
    "\n",
    "ywerte = [4, 7, 1, 9, 5, 2, 8]\n",
    "xwerte = [1, 2, 3, 4, 5, 6, 7]\n",
    "plt.bar(xwerte, ywerte)\n",
    "plt.xlabel(\"X-Werte\")\n",
    "plt.ylabel(\"Y-Werte\")\n",
    "plt.show()"
   ]
  },
  {
   "cell_type": "code",
   "execution_count": null,
   "id": "7f824363",
   "metadata": {},
   "outputs": [],
   "source": [
    "#Inzidenz von Steinfurt\n",
    "url = \"https://services7.arcgis.com/mOBPykOjAyBO2ZKk/arcgis/rest/services/rki_key_data_v/FeatureServer/0/query?\"\n",
    "lk_id = 5566 # ID für den Kreis Steinfurt gemäß AdmUnit Tabelle\n",
    "parameter = {\n",
    "    'referer':'https://www.mywebapp.com',\n",
    "    'user-agent':'python-requests/2.9.1',\n",
    "    'where': f'AdmUnitId = {lk_id}', # Welche landkreise sollen zurück gegeben werden\n",
    "    'outFields': '*', # Rückgabe aller Felder\n",
    "    'returnGeometry': False, # Keine Geometrien\n",
    "    'f':'json', # Rückgabeformat, hier JSON\n",
    "    'cacheHint': True # Zugriff über CDN anfragen\n",
    "}\n",
    "result2 = requests.get(url=url, params=parameter) #Anfrage absetzen\n",
    "resultjson2 = json.loads(result2.text) # Das Ergebnis JSON als Python Dictionary laden\n",
    "print(resultjson2['features'][0]['attributes']['Inz7T']) # Wir erwarten genau einen Datensatz, Ausgabe aller Attribute"
   ]
  },
  {
   "cell_type": "code",
   "execution_count": null,
   "id": "4d88f7d8",
   "metadata": {},
   "outputs": [],
   "source": [
    "#Balkendiagramm mit den Inzidenzen von Berlin und Steinfurt\n",
    "steinfurt=resultjson2['features'][0]['attributes']['Inz7T']\n",
    "berlin=resultjson['features'][0]['attributes']['Inz7T']\n",
    "ywerte = [steinfurt, berlin]\n",
    "xwerte = ['Steinfurt', 'Berlin']\n",
    "plt.bar(xwerte, ywerte)\n",
    "plt.xlabel(\"Orte\")\n",
    "plt.ylabel(\"Inzidenzen\")\n",
    "plt.show()"
   ]
  },
  {
   "cell_type": "code",
   "execution_count": null,
   "id": "771c20a3",
   "metadata": {},
   "outputs": [],
   "source": []
  }
 ],
 "metadata": {
  "kernelspec": {
   "display_name": "Python 3 (ipykernel)",
   "language": "python",
   "name": "python3"
  },
  "language_info": {
   "codemirror_mode": {
    "name": "ipython",
    "version": 3
   },
   "file_extension": ".py",
   "mimetype": "text/x-python",
   "name": "python",
   "nbconvert_exporter": "python",
   "pygments_lexer": "ipython3",
   "version": "3.9.5"
  }
 },
 "nbformat": 4,
 "nbformat_minor": 5
}
