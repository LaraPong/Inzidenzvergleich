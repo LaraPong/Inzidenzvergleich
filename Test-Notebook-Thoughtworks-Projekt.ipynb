{
 "cells": [
  {
   "cell_type": "markdown",
   "metadata": {},
   "source": [
    "Test-Notebook"
   ]
  },
  {
   "cell_type": "code",
   "execution_count": 2,
   "metadata": {},
   "outputs": [
    {
     "data": {
      "text/plain": [
       "3"
      ]
     },
     "execution_count": 2,
     "metadata": {},
     "output_type": "execute_result"
    }
   ],
   "source": [
    "1+2"
   ]
  },
  {
   "cell_type": "markdown",
   "metadata": {},
   "source": [
    "Test war erfolgreich."
   ]
  },
  {
   "cell_type": "code",
   "execution_count": 4,
   "metadata": {},
   "outputs": [
    {
     "ename": "FileNotFoundError",
     "evalue": "[Errno 2] No such file or directory: 'InzidenzenPolenDeutschland.xlsx'",
     "output_type": "error",
     "traceback": [
      "\u001b[1;31m---------------------------------------------------------------------------\u001b[0m",
      "\u001b[1;31mFileNotFoundError\u001b[0m                         Traceback (most recent call last)",
      "\u001b[1;32m<ipython-input-4-4da7494b02fe>\u001b[0m in \u001b[0;36m<module>\u001b[1;34m\u001b[0m\n\u001b[0;32m      4\u001b[0m \u001b[1;32mimport\u001b[0m \u001b[0mpandas\u001b[0m\u001b[1;33m\u001b[0m\u001b[1;33m\u001b[0m\u001b[0m\n\u001b[0;32m      5\u001b[0m \u001b[1;33m\u001b[0m\u001b[0m\n\u001b[1;32m----> 6\u001b[1;33m \u001b[0mfileXLSX\u001b[0m \u001b[1;33m=\u001b[0m \u001b[0mopenpyxl\u001b[0m\u001b[1;33m.\u001b[0m\u001b[0mload_workbook\u001b[0m\u001b[1;33m(\u001b[0m\u001b[1;34m'InzidenzenPolenDeutschland.xlsx'\u001b[0m\u001b[1;33m)\u001b[0m\u001b[1;33m\u001b[0m\u001b[1;33m\u001b[0m\u001b[0m\n\u001b[0m\u001b[0;32m      7\u001b[0m \u001b[1;33m\u001b[0m\u001b[0m\n\u001b[0;32m      8\u001b[0m \u001b[0msheet\u001b[0m \u001b[1;33m=\u001b[0m \u001b[0mfileXLSX\u001b[0m\u001b[1;33m[\u001b[0m\u001b[1;34m\"Tabelle1\"\u001b[0m\u001b[1;33m]\u001b[0m\u001b[1;33m\u001b[0m\u001b[1;33m\u001b[0m\u001b[0m\n",
      "\u001b[1;32m~\\ana\\lib\\site-packages\\openpyxl\\reader\\excel.py\u001b[0m in \u001b[0;36mload_workbook\u001b[1;34m(filename, read_only, keep_vba, data_only, keep_links)\u001b[0m\n\u001b[0;32m    311\u001b[0m     \"\"\"\n\u001b[0;32m    312\u001b[0m     reader = ExcelReader(filename, read_only, keep_vba,\n\u001b[1;32m--> 313\u001b[1;33m                         data_only, keep_links)\n\u001b[0m\u001b[0;32m    314\u001b[0m     \u001b[0mreader\u001b[0m\u001b[1;33m.\u001b[0m\u001b[0mread\u001b[0m\u001b[1;33m(\u001b[0m\u001b[1;33m)\u001b[0m\u001b[1;33m\u001b[0m\u001b[1;33m\u001b[0m\u001b[0m\n\u001b[0;32m    315\u001b[0m     \u001b[1;32mreturn\u001b[0m \u001b[0mreader\u001b[0m\u001b[1;33m.\u001b[0m\u001b[0mwb\u001b[0m\u001b[1;33m\u001b[0m\u001b[1;33m\u001b[0m\u001b[0m\n",
      "\u001b[1;32m~\\ana\\lib\\site-packages\\openpyxl\\reader\\excel.py\u001b[0m in \u001b[0;36m__init__\u001b[1;34m(self, fn, read_only, keep_vba, data_only, keep_links)\u001b[0m\n\u001b[0;32m    122\u001b[0m     def __init__(self,  fn, read_only=False, keep_vba=KEEP_VBA,\n\u001b[0;32m    123\u001b[0m                   data_only=False, keep_links=True):\n\u001b[1;32m--> 124\u001b[1;33m         \u001b[0mself\u001b[0m\u001b[1;33m.\u001b[0m\u001b[0marchive\u001b[0m \u001b[1;33m=\u001b[0m \u001b[0m_validate_archive\u001b[0m\u001b[1;33m(\u001b[0m\u001b[0mfn\u001b[0m\u001b[1;33m)\u001b[0m\u001b[1;33m\u001b[0m\u001b[1;33m\u001b[0m\u001b[0m\n\u001b[0m\u001b[0;32m    125\u001b[0m         \u001b[0mself\u001b[0m\u001b[1;33m.\u001b[0m\u001b[0mvalid_files\u001b[0m \u001b[1;33m=\u001b[0m \u001b[0mself\u001b[0m\u001b[1;33m.\u001b[0m\u001b[0marchive\u001b[0m\u001b[1;33m.\u001b[0m\u001b[0mnamelist\u001b[0m\u001b[1;33m(\u001b[0m\u001b[1;33m)\u001b[0m\u001b[1;33m\u001b[0m\u001b[1;33m\u001b[0m\u001b[0m\n\u001b[0;32m    126\u001b[0m         \u001b[0mself\u001b[0m\u001b[1;33m.\u001b[0m\u001b[0mread_only\u001b[0m \u001b[1;33m=\u001b[0m \u001b[0mread_only\u001b[0m\u001b[1;33m\u001b[0m\u001b[1;33m\u001b[0m\u001b[0m\n",
      "\u001b[1;32m~\\ana\\lib\\site-packages\\openpyxl\\reader\\excel.py\u001b[0m in \u001b[0;36m_validate_archive\u001b[1;34m(filename)\u001b[0m\n\u001b[0;32m     94\u001b[0m             \u001b[1;32mraise\u001b[0m \u001b[0mInvalidFileException\u001b[0m\u001b[1;33m(\u001b[0m\u001b[0mmsg\u001b[0m\u001b[1;33m)\u001b[0m\u001b[1;33m\u001b[0m\u001b[1;33m\u001b[0m\u001b[0m\n\u001b[0;32m     95\u001b[0m \u001b[1;33m\u001b[0m\u001b[0m\n\u001b[1;32m---> 96\u001b[1;33m     \u001b[0marchive\u001b[0m \u001b[1;33m=\u001b[0m \u001b[0mZipFile\u001b[0m\u001b[1;33m(\u001b[0m\u001b[0mfilename\u001b[0m\u001b[1;33m,\u001b[0m \u001b[1;34m'r'\u001b[0m\u001b[1;33m)\u001b[0m\u001b[1;33m\u001b[0m\u001b[1;33m\u001b[0m\u001b[0m\n\u001b[0m\u001b[0;32m     97\u001b[0m     \u001b[1;32mreturn\u001b[0m \u001b[0marchive\u001b[0m\u001b[1;33m\u001b[0m\u001b[1;33m\u001b[0m\u001b[0m\n\u001b[0;32m     98\u001b[0m \u001b[1;33m\u001b[0m\u001b[0m\n",
      "\u001b[1;32m~\\ana\\lib\\zipfile.py\u001b[0m in \u001b[0;36m__init__\u001b[1;34m(self, file, mode, compression, allowZip64, compresslevel)\u001b[0m\n\u001b[0;32m   1238\u001b[0m             \u001b[1;32mwhile\u001b[0m \u001b[1;32mTrue\u001b[0m\u001b[1;33m:\u001b[0m\u001b[1;33m\u001b[0m\u001b[1;33m\u001b[0m\u001b[0m\n\u001b[0;32m   1239\u001b[0m                 \u001b[1;32mtry\u001b[0m\u001b[1;33m:\u001b[0m\u001b[1;33m\u001b[0m\u001b[1;33m\u001b[0m\u001b[0m\n\u001b[1;32m-> 1240\u001b[1;33m                     \u001b[0mself\u001b[0m\u001b[1;33m.\u001b[0m\u001b[0mfp\u001b[0m \u001b[1;33m=\u001b[0m \u001b[0mio\u001b[0m\u001b[1;33m.\u001b[0m\u001b[0mopen\u001b[0m\u001b[1;33m(\u001b[0m\u001b[0mfile\u001b[0m\u001b[1;33m,\u001b[0m \u001b[0mfilemode\u001b[0m\u001b[1;33m)\u001b[0m\u001b[1;33m\u001b[0m\u001b[1;33m\u001b[0m\u001b[0m\n\u001b[0m\u001b[0;32m   1241\u001b[0m                 \u001b[1;32mexcept\u001b[0m \u001b[0mOSError\u001b[0m\u001b[1;33m:\u001b[0m\u001b[1;33m\u001b[0m\u001b[1;33m\u001b[0m\u001b[0m\n\u001b[0;32m   1242\u001b[0m                     \u001b[1;32mif\u001b[0m \u001b[0mfilemode\u001b[0m \u001b[1;32min\u001b[0m \u001b[0mmodeDict\u001b[0m\u001b[1;33m:\u001b[0m\u001b[1;33m\u001b[0m\u001b[1;33m\u001b[0m\u001b[0m\n",
      "\u001b[1;31mFileNotFoundError\u001b[0m: [Errno 2] No such file or directory: 'InzidenzenPolenDeutschland.xlsx'"
     ]
    }
   ],
   "source": [
    "#Excel-Datei auslesen mit Openpyxl und Pandas (Meine Datei heißt InzidenzenPolenDeutschland.xlsx ud ist ein Abzug, \n",
    "#aus der Datei unserer Auftraggeber*innen)\n",
    "import openpyxl\n",
    "import pandas\n",
    "\n",
    "fileXLSX = openpyxl.load_workbook('InzidenzenPolenDeutschland.xlsx')\n",
    "\n",
    "sheet = fileXLSX[\"Tabelle1\"]\n",
    "\n",
    "print(sheet['A2'].value)"
   ]
  },
  {
   "cell_type": "code",
   "execution_count": 9,
   "metadata": {},
   "outputs": [
    {
     "name": "stdout",
     "output_type": "stream",
     "text": [
      "B2 97\n",
      "B3 47\n",
      "B4 46\n",
      "B5 44\n",
      "B6 51\n",
      "B7 54\n",
      "B8 45\n",
      "B9 50\n",
      "B10 47\n"
     ]
    }
   ],
   "source": [
    "for row in sheet['B2':'B10']:\n",
    "    for col in row:\n",
    "        print(col.coordinate, col.value)"
   ]
  },
  {
   "cell_type": "code",
   "execution_count": 10,
   "metadata": {},
   "outputs": [
    {
     "name": "stdout",
     "output_type": "stream",
     "text": [
      "1788.204413091625\n"
     ]
    }
   ],
   "source": [
    "#Versuch, Inzidenz aus meiner Excel-Datei auszulesen\n",
    "#leider gescheitert\n",
    "berlin=3669491\n",
    "\n",
    "bc=sheet['F2'].value+sheet['F3'].value+sheet['F4'].value+sheet['F5'].value+sheet['F6'].value+sheet['F7'].value+sheet['F8'].value\n",
    "\n",
    "inz=bc*100000/berlin\n",
    "\n",
    "print(inz)"
   ]
  },
  {
   "cell_type": "code",
   "execution_count": 5,
   "metadata": {},
   "outputs": [
    {
     "name": "stdout",
     "output_type": "stream",
     "text": [
      "{'AdmUnitId': 11001, 'BundeslandId': 11, 'AnzFall': 27990, 'AnzTodesfall': 332, 'AnzFallNeu': 152, 'AnzTodesfallNeu': 2, 'AnzFall7T': 626, 'AnzGenesen': 25800, 'AnzGenesenNeu': 0, 'AnzAktiv': 1900, 'AnzAktivNeu': 100, 'Inz7T': 167.1, 'ObjectId': 266}\n"
     ]
    }
   ],
   "source": [
    "#API vom RKI von Laras Reposoitory mit Landkreis-ID von Berlin\n",
    "import requests, json\n",
    "\n",
    "url = \"https://services7.arcgis.com/mOBPykOjAyBO2ZKk/arcgis/rest/services/rki_key_data_v/FeatureServer/0/query?\"\n",
    "lk_id = 11001 # ID für den Kreis Berlin gemäß AdmUnit Tabelle\n",
    "parameter = {\n",
    "    'referer':'https://www.mywebapp.com',\n",
    "    'user-agent':'python-requests/2.9.1',\n",
    "    'where': f'AdmUnitId = {lk_id}', # Welche landkreise sollen zurück gegeben werden\n",
    "    'outFields': '*', # Rückgabe aller Felder\n",
    "    'returnGeometry': False, # Keine Geometrien\n",
    "    'f':'json', # Rückgabeformat, hier JSON\n",
    "    'cacheHint': True # Zugriff über CDN anfragen\n",
    "}\n",
    "result = requests.get(url=url, params=parameter) #Anfrage absetzen\n",
    "resultjson = json.loads(result.text) # Das Ergebnis JSON als Python Dictionary laden\n",
    "print(resultjson['features'][0]['attributes']) # Wir erwarten genau einen Datensatz, Ausgabe aller Attribute"
   ]
  },
  {
   "cell_type": "code",
   "execution_count": 6,
   "metadata": {},
   "outputs": [
    {
     "name": "stdout",
     "output_type": "stream",
     "text": [
      "AdmUnitId : 11001\n",
      "BundeslandId : 11\n",
      "AnzFall : 27990\n",
      "AnzTodesfall : 332\n",
      "AnzFallNeu : 152\n",
      "AnzTodesfallNeu : 2\n",
      "AnzFall7T : 626\n",
      "AnzGenesen : 25800\n",
      "AnzGenesenNeu : 0\n",
      "AnzAktiv : 1900\n",
      "AnzAktivNeu : 100\n",
      "Inz7T : 167.1\n",
      "ObjectId : 266\n"
     ]
    }
   ],
   "source": [
    "newjson=resultjson['features'][0]['attributes']\n",
    "\n",
    "for key in newjson:\n",
    "    print(key, \":\", newjson[key])"
   ]
  },
  {
   "cell_type": "code",
   "execution_count": 7,
   "metadata": {},
   "outputs": [
    {
     "name": "stdout",
     "output_type": "stream",
     "text": [
      "{'objectIdFieldName': 'ObjectId', 'uniqueIdField': {'name': 'ObjectId', 'isSystemMaintained': True}, 'globalIdFieldName': '', 'fields': [{'name': 'AdmUnitId', 'type': 'esriFieldTypeInteger', 'alias': 'AdmUnitId', 'sqlType': 'sqlTypeInteger', 'domain': None, 'defaultValue': None}, {'name': 'BundeslandId', 'type': 'esriFieldTypeInteger', 'alias': 'BundeslandId', 'sqlType': 'sqlTypeInteger', 'domain': None, 'defaultValue': None}, {'name': 'AnzFall', 'type': 'esriFieldTypeInteger', 'alias': 'AnzFall', 'sqlType': 'sqlTypeInteger', 'domain': None, 'defaultValue': None}, {'name': 'AnzTodesfall', 'type': 'esriFieldTypeInteger', 'alias': 'AnzTodesfall', 'sqlType': 'sqlTypeInteger', 'domain': None, 'defaultValue': None}, {'name': 'AnzFallNeu', 'type': 'esriFieldTypeInteger', 'alias': 'AnzFallNeu', 'sqlType': 'sqlTypeInteger', 'domain': None, 'defaultValue': None}, {'name': 'AnzTodesfallNeu', 'type': 'esriFieldTypeInteger', 'alias': 'AnzTodesfallNeu', 'sqlType': 'sqlTypeInteger', 'domain': None, 'defaultValue': None}, {'name': 'AnzFall7T', 'type': 'esriFieldTypeInteger', 'alias': 'AnzFall7T', 'sqlType': 'sqlTypeInteger', 'domain': None, 'defaultValue': None}, {'name': 'AnzGenesen', 'type': 'esriFieldTypeInteger', 'alias': 'AnzGenesen', 'sqlType': 'sqlTypeInteger', 'domain': None, 'defaultValue': None}, {'name': 'AnzGenesenNeu', 'type': 'esriFieldTypeInteger', 'alias': 'AnzGenesenNeu', 'sqlType': 'sqlTypeInteger', 'domain': None, 'defaultValue': None}, {'name': 'AnzAktiv', 'type': 'esriFieldTypeInteger', 'alias': 'AnzAktiv', 'sqlType': 'sqlTypeInteger', 'domain': None, 'defaultValue': None}, {'name': 'AnzAktivNeu', 'type': 'esriFieldTypeInteger', 'alias': 'AnzAktivNeu', 'sqlType': 'sqlTypeInteger', 'domain': None, 'defaultValue': None}, {'name': 'Inz7T', 'type': 'esriFieldTypeDouble', 'alias': 'Inz7T', 'sqlType': 'sqlTypeFloat', 'domain': None, 'defaultValue': None}, {'name': 'ObjectId', 'type': 'esriFieldTypeOID', 'alias': 'ObjectId', 'sqlType': 'sqlTypeInteger', 'domain': None, 'defaultValue': None}], 'features': [{'attributes': {'AdmUnitId': 11001, 'BundeslandId': 11, 'AnzFall': 27990, 'AnzTodesfall': 332, 'AnzFallNeu': 152, 'AnzTodesfallNeu': 2, 'AnzFall7T': 626, 'AnzGenesen': 25800, 'AnzGenesenNeu': 0, 'AnzAktiv': 1900, 'AnzAktivNeu': 100, 'Inz7T': 167.1, 'ObjectId': 266}}]}\n",
      "167.1\n"
     ]
    }
   ],
   "source": [
    "#Directory in Json-String verändert\n",
    "#unnötig für weiteeres Vorgehen\n",
    "json_object = json.dumps(resultjson, indent = 4) \n",
    "object = json.loads(json_object)\n",
    "print(object)\n",
    "print(object['features'][0]['attributes']['Inz7T'])"
   ]
  },
  {
   "cell_type": "code",
   "execution_count": 8,
   "metadata": {},
   "outputs": [
    {
     "name": "stdout",
     "output_type": "stream",
     "text": [
      "content\n"
     ]
    }
   ],
   "source": [
    "#Beispielcode zum Auslesen einer Directory\n",
    "jsonString = '{\"test\": \"testValue\",\"test2\": \"content\"}'\n",
    "\n",
    "obj = json.loads(jsonString)\n",
    "\n",
    "print(obj[\"test2\"])"
   ]
  },
  {
   "cell_type": "code",
   "execution_count": 9,
   "metadata": {},
   "outputs": [
    {
     "name": "stdout",
     "output_type": "stream",
     "text": [
      "7-Tage-Inzidenz : 167.1\n"
     ]
    }
   ],
   "source": [
    "print('7-Tage-Inzidenz :', object['features'][0]['attributes']['Inz7T'])\n"
   ]
  },
  {
   "cell_type": "code",
   "execution_count": 10,
   "metadata": {},
   "outputs": [
    {
     "name": "stdout",
     "output_type": "stream",
     "text": [
      "167.1\n"
     ]
    }
   ],
   "source": [
    "print(resultjson['features'][0]['attributes']['Inz7T'])"
   ]
  },
  {
   "cell_type": "code",
   "execution_count": 59,
   "metadata": {},
   "outputs": [],
   "source": [
    "#Zugriff auf Dokumentation mit ?\n",
    "import pandas as pd\n",
    "pd.Series?"
   ]
  },
  {
   "cell_type": "code",
   "execution_count": 14,
   "metadata": {},
   "outputs": [
    {
     "data": {
      "image/png": "[encoded data removed]",
      "text/plain": [
       "<Figure size 640x480 with 1 Axes>"
      ]
     },
     "metadata": {},
     "output_type": "display_data"
    }
   ],
   "source": [
    "#Beispielcode zum Erstellen eines Balkendiagrammes\n",
    "import matplotlib.pyplot as plt\n",
    "\n",
    "ywerte = [4, 7, 1, 9, 5, 2, 8]\n",
    "xwerte = [1, 2, 3, 4, 5, 6, 7]\n",
    "plt.bar(xwerte, ywerte)\n",
    "plt.xlabel(\"X-Werte\")\n",
    "plt.ylabel(\"Y-Werte\")\n",
    "plt.show()"
   ]
  },
  {
   "cell_type": "code",
   "execution_count": 15,
   "metadata": {},
   "outputs": [
    {
     "name": "stdout",
     "output_type": "stream",
     "text": [
      "79\n"
     ]
    }
   ],
   "source": [
    "#Inzidenz von Steinfurt\n",
    "url = \"https://services7.arcgis.com/mOBPykOjAyBO2ZKk/arcgis/rest/services/rki_key_data_v/FeatureServer/0/query?\"\n",
    "lk_id = 5566 # ID für den Kreis Steinfurt gemäß AdmUnit Tabelle\n",
    "parameter = {\n",
    "    'referer':'https://www.mywebapp.com',\n",
    "    'user-agent':'python-requests/2.9.1',\n",
    "    'where': f'AdmUnitId = {lk_id}', # Welche landkreise sollen zurück gegeben werden\n",
    "    'outFields': '*', # Rückgabe aller Felder\n",
    "    'returnGeometry': False, # Keine Geometrien\n",
    "    'f':'json', # Rückgabeformat, hier JSON\n",
    "    'cacheHint': True # Zugriff über CDN anfragen\n",
    "}\n",
    "result2 = requests.get(url=url, params=parameter) #Anfrage absetzen\n",
    "resultjson2 = json.loads(result2.text) # Das Ergebnis JSON als Python Dictionary laden\n",
    "print(resultjson2['features'][0]['attributes']['Inz7T']) # Wir erwarten genau einen Datensatz, Ausgabe aller Attribute"
   ]
  },
  {
   "cell_type": "code",
   "execution_count": 1,
   "metadata": {},
   "outputs": [
    {
     "ename": "NameError",
     "evalue": "name 'resultjson2' is not defined",
     "output_type": "error",
     "traceback": [
      "\u001b[1;31m---------------------------------------------------------------------------\u001b[0m",
      "\u001b[1;31mNameError\u001b[0m                                 Traceback (most recent call last)",
      "\u001b[1;32m<ipython-input-1-a26391760b2c>\u001b[0m in \u001b[0;36m<module>\u001b[1;34m\u001b[0m\n\u001b[0;32m      1\u001b[0m \u001b[1;31m#Balkendiagramm mit den Inzidenzen von Berlin und Steinfurt\u001b[0m\u001b[1;33m\u001b[0m\u001b[1;33m\u001b[0m\u001b[1;33m\u001b[0m\u001b[0m\n\u001b[1;32m----> 2\u001b[1;33m \u001b[0msteinfurt\u001b[0m\u001b[1;33m=\u001b[0m\u001b[0mresultjson2\u001b[0m\u001b[1;33m[\u001b[0m\u001b[1;34m'features'\u001b[0m\u001b[1;33m]\u001b[0m\u001b[1;33m[\u001b[0m\u001b[1;36m0\u001b[0m\u001b[1;33m]\u001b[0m\u001b[1;33m[\u001b[0m\u001b[1;34m'attributes'\u001b[0m\u001b[1;33m]\u001b[0m\u001b[1;33m[\u001b[0m\u001b[1;34m'Inz7T'\u001b[0m\u001b[1;33m]\u001b[0m\u001b[1;33m\u001b[0m\u001b[1;33m\u001b[0m\u001b[0m\n\u001b[0m\u001b[0;32m      3\u001b[0m \u001b[0mberlin\u001b[0m\u001b[1;33m=\u001b[0m\u001b[0mresultjson\u001b[0m\u001b[1;33m[\u001b[0m\u001b[1;34m'features'\u001b[0m\u001b[1;33m]\u001b[0m\u001b[1;33m[\u001b[0m\u001b[1;36m0\u001b[0m\u001b[1;33m]\u001b[0m\u001b[1;33m[\u001b[0m\u001b[1;34m'attributes'\u001b[0m\u001b[1;33m]\u001b[0m\u001b[1;33m[\u001b[0m\u001b[1;34m'Inz7T'\u001b[0m\u001b[1;33m]\u001b[0m\u001b[1;33m\u001b[0m\u001b[1;33m\u001b[0m\u001b[0m\n\u001b[0;32m      4\u001b[0m \u001b[0mywerte\u001b[0m \u001b[1;33m=\u001b[0m \u001b[1;33m[\u001b[0m\u001b[0msteinfurt\u001b[0m\u001b[1;33m,\u001b[0m \u001b[0mberlin\u001b[0m\u001b[1;33m]\u001b[0m\u001b[1;33m\u001b[0m\u001b[1;33m\u001b[0m\u001b[0m\n\u001b[0;32m      5\u001b[0m \u001b[0mxwerte\u001b[0m \u001b[1;33m=\u001b[0m \u001b[1;33m[\u001b[0m\u001b[1;34m'Steinfurt'\u001b[0m\u001b[1;33m,\u001b[0m \u001b[1;34m'Berlin'\u001b[0m\u001b[1;33m]\u001b[0m\u001b[1;33m\u001b[0m\u001b[1;33m\u001b[0m\u001b[0m\n",
      "\u001b[1;31mNameError\u001b[0m: name 'resultjson2' is not defined"
     ]
    }
   ],
   "source": [
    "#Balkendiagramm mit den Inzidenzen von Berlin und Steinfurt\n",
    "steinfurt=resultjson2['features'][0]['attributes']['Inz7T']\n",
    "berlin=resultjson['features'][0]['attributes']['Inz7T']\n",
    "ywerte = [steinfurt, berlin]\n",
    "xwerte = ['Steinfurt', 'Berlin']\n",
    "plt.bar(xwerte, ywerte)\n",
    "plt.xlabel(\"Orte\")\n",
    "plt.ylabel(\"Inzidenzen\")\n",
    "plt.show()"
   ]
  },
  {
   "cell_type": "code",
   "execution_count": null,
   "metadata": {},
   "outputs": [],
   "source": []
  }
 ],
 "metadata": {
  "kernelspec": {
   "display_name": "Python 3",
   "language": "python",
   "name": "python3"
  },
  "language_info": {
   "codemirror_mode": {
    "name": "ipython",
    "version": 3
   },
   "file_extension": ".py",
   "mimetype": "text/x-python",
   "name": "python",
   "nbconvert_exporter": "python",
   "pygments_lexer": "ipython3",
   "version": "3.7.6"
  }
 },
 "nbformat": 4,
 "nbformat_minor": 5
}
