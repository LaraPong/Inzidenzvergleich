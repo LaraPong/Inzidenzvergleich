{
 "cells": [
  {
   "cell_type": "markdown",
   "id": "0a5c2527",
   "metadata": {},
   "source": [
    "Test-Notebook"
   ]
  },
  {
   "cell_type": "code",
   "execution_count": 1,
   "id": "7e9184c0",
   "metadata": {},
   "outputs": [
    {
     "data": {
      "text/plain": [
       "3"
      ]
     },
     "execution_count": 1,
     "metadata": {},
     "output_type": "execute_result"
    }
   ],
   "source": [
    "1+2"
   ]
  },
  {
   "cell_type": "markdown",
   "id": "e49202af",
   "metadata": {},
   "source": [
    "Test war erfolgreich."
   ]
  },
  {
   "cell_type": "code",
   "execution_count": 2,
   "id": "b4a207ef",
   "metadata": {},
   "outputs": [
    {
     "ename": "ModuleNotFoundError",
     "evalue": "No module named 'openpyxl'",
     "output_type": "error",
     "traceback": [
      "\u001b[1;31m---------------------------------------------------------------------------\u001b[0m",
      "\u001b[1;31mModuleNotFoundError\u001b[0m                       Traceback (most recent call last)",
      "\u001b[1;32m~\\AppData\\Local\\Temp/ipykernel_15776/690080996.py\u001b[0m in \u001b[0;36m<module>\u001b[1;34m\u001b[0m\n\u001b[0;32m      1\u001b[0m \u001b[1;31m#Excel-Datei auslesen mit Openpyxl und Pandas (Meine Datei heißt InzidenzenPolenDeutschland.xlsx ud ist ein Abzug,\u001b[0m\u001b[1;33m\u001b[0m\u001b[1;33m\u001b[0m\u001b[1;33m\u001b[0m\u001b[0m\n\u001b[0;32m      2\u001b[0m \u001b[1;31m#aus der Datei unserer Auftraggeber*innen)\u001b[0m\u001b[1;33m\u001b[0m\u001b[1;33m\u001b[0m\u001b[1;33m\u001b[0m\u001b[0m\n\u001b[1;32m----> 3\u001b[1;33m \u001b[1;32mimport\u001b[0m \u001b[0mopenpyxl\u001b[0m\u001b[1;33m\u001b[0m\u001b[1;33m\u001b[0m\u001b[0m\n\u001b[0m\u001b[0;32m      4\u001b[0m \u001b[1;32mimport\u001b[0m \u001b[0mpandas\u001b[0m\u001b[1;33m\u001b[0m\u001b[1;33m\u001b[0m\u001b[0m\n\u001b[0;32m      5\u001b[0m \u001b[1;33m\u001b[0m\u001b[0m\n",
      "\u001b[1;31mModuleNotFoundError\u001b[0m: No module named 'openpyxl'"
     ]
    }
   ],
   "source": [
    "#Excel-Datei auslesen mit Openpyxl und Pandas (Meine Datei heißt InzidenzenPolenDeutschland.xlsx ud ist ein Abzug, \n",
    "#aus der Datei unserer Auftraggeber*innen)\n",
    "import openpyxl\n",
    "import pandas\n",
    "\n",
    "fileXLSX = openpyxl.load_workbook('InzidenzenPolenDeutschland.xlsx')\n",
    "\n",
    "sheet = fileXLSX[\"Tabelle1\"]\n",
    "\n",
    "print(sheet['A2'].value)"
   ]
  },
  {
   "cell_type": "code",
   "execution_count": 3,
   "id": "54aef565",
   "metadata": {},
   "outputs": [
    {
     "ename": "NameError",
     "evalue": "name 'sheet' is not defined",
     "output_type": "error",
     "traceback": [
      "\u001b[1;31m---------------------------------------------------------------------------\u001b[0m",
      "\u001b[1;31mNameError\u001b[0m                                 Traceback (most recent call last)",
      "\u001b[1;32m~\\AppData\\Local\\Temp/ipykernel_15776/4230416069.py\u001b[0m in \u001b[0;36m<module>\u001b[1;34m\u001b[0m\n\u001b[1;32m----> 1\u001b[1;33m \u001b[1;32mfor\u001b[0m \u001b[0mrow\u001b[0m \u001b[1;32min\u001b[0m \u001b[0msheet\u001b[0m\u001b[1;33m[\u001b[0m\u001b[1;34m'B2'\u001b[0m\u001b[1;33m:\u001b[0m\u001b[1;34m'B10'\u001b[0m\u001b[1;33m]\u001b[0m\u001b[1;33m:\u001b[0m\u001b[1;33m\u001b[0m\u001b[1;33m\u001b[0m\u001b[0m\n\u001b[0m\u001b[0;32m      2\u001b[0m     \u001b[1;32mfor\u001b[0m \u001b[0mcol\u001b[0m \u001b[1;32min\u001b[0m \u001b[0mrow\u001b[0m\u001b[1;33m:\u001b[0m\u001b[1;33m\u001b[0m\u001b[1;33m\u001b[0m\u001b[0m\n\u001b[0;32m      3\u001b[0m         \u001b[0mprint\u001b[0m\u001b[1;33m(\u001b[0m\u001b[0mcol\u001b[0m\u001b[1;33m.\u001b[0m\u001b[0mcoordinate\u001b[0m\u001b[1;33m,\u001b[0m \u001b[0mcol\u001b[0m\u001b[1;33m.\u001b[0m\u001b[0mvalue\u001b[0m\u001b[1;33m)\u001b[0m\u001b[1;33m\u001b[0m\u001b[1;33m\u001b[0m\u001b[0m\n",
      "\u001b[1;31mNameError\u001b[0m: name 'sheet' is not defined"
     ]
    }
   ],
   "source": [
    "for row in sheet['B2':'B10']:\n",
    "    for col in row:\n",
    "        print(col.coordinate, col.value)"
   ]
  },
  {
   "cell_type": "code",
   "execution_count": 4,
   "id": "fcaa69f7",
   "metadata": {},
   "outputs": [
    {
     "ename": "NameError",
     "evalue": "name 'sheet' is not defined",
     "output_type": "error",
     "traceback": [
      "\u001b[1;31m---------------------------------------------------------------------------\u001b[0m",
      "\u001b[1;31mNameError\u001b[0m                                 Traceback (most recent call last)",
      "\u001b[1;32m~\\AppData\\Local\\Temp/ipykernel_15776/3613776698.py\u001b[0m in \u001b[0;36m<module>\u001b[1;34m\u001b[0m\n\u001b[0;32m      3\u001b[0m \u001b[0mberlin\u001b[0m\u001b[1;33m=\u001b[0m\u001b[1;36m3669491\u001b[0m\u001b[1;33m\u001b[0m\u001b[1;33m\u001b[0m\u001b[0m\n\u001b[0;32m      4\u001b[0m \u001b[1;33m\u001b[0m\u001b[0m\n\u001b[1;32m----> 5\u001b[1;33m \u001b[0mbc\u001b[0m\u001b[1;33m=\u001b[0m\u001b[0msheet\u001b[0m\u001b[1;33m[\u001b[0m\u001b[1;34m'F2'\u001b[0m\u001b[1;33m]\u001b[0m\u001b[1;33m.\u001b[0m\u001b[0mvalue\u001b[0m\u001b[1;33m+\u001b[0m\u001b[0msheet\u001b[0m\u001b[1;33m[\u001b[0m\u001b[1;34m'F3'\u001b[0m\u001b[1;33m]\u001b[0m\u001b[1;33m.\u001b[0m\u001b[0mvalue\u001b[0m\u001b[1;33m+\u001b[0m\u001b[0msheet\u001b[0m\u001b[1;33m[\u001b[0m\u001b[1;34m'F4'\u001b[0m\u001b[1;33m]\u001b[0m\u001b[1;33m.\u001b[0m\u001b[0mvalue\u001b[0m\u001b[1;33m+\u001b[0m\u001b[0msheet\u001b[0m\u001b[1;33m[\u001b[0m\u001b[1;34m'F5'\u001b[0m\u001b[1;33m]\u001b[0m\u001b[1;33m.\u001b[0m\u001b[0mvalue\u001b[0m\u001b[1;33m+\u001b[0m\u001b[0msheet\u001b[0m\u001b[1;33m[\u001b[0m\u001b[1;34m'F6'\u001b[0m\u001b[1;33m]\u001b[0m\u001b[1;33m.\u001b[0m\u001b[0mvalue\u001b[0m\u001b[1;33m+\u001b[0m\u001b[0msheet\u001b[0m\u001b[1;33m[\u001b[0m\u001b[1;34m'F7'\u001b[0m\u001b[1;33m]\u001b[0m\u001b[1;33m.\u001b[0m\u001b[0mvalue\u001b[0m\u001b[1;33m+\u001b[0m\u001b[0msheet\u001b[0m\u001b[1;33m[\u001b[0m\u001b[1;34m'F8'\u001b[0m\u001b[1;33m]\u001b[0m\u001b[1;33m.\u001b[0m\u001b[0mvalue\u001b[0m\u001b[1;33m\u001b[0m\u001b[1;33m\u001b[0m\u001b[0m\n\u001b[0m\u001b[0;32m      6\u001b[0m \u001b[1;33m\u001b[0m\u001b[0m\n\u001b[0;32m      7\u001b[0m \u001b[0minz\u001b[0m\u001b[1;33m=\u001b[0m\u001b[0mbc\u001b[0m\u001b[1;33m*\u001b[0m\u001b[1;36m100000\u001b[0m\u001b[1;33m/\u001b[0m\u001b[0mberlin\u001b[0m\u001b[1;33m\u001b[0m\u001b[1;33m\u001b[0m\u001b[0m\n",
      "\u001b[1;31mNameError\u001b[0m: name 'sheet' is not defined"
     ]
    }
   ],
   "source": [
    "#Versuch, Inzidenz aus meiner Excel-Datei auszulesen\n",
    "#leider gescheitert\n",
    "berlin=3669491\n",
    "\n",
    "bc=sheet['F2'].value+sheet['F3'].value+sheet['F4'].value+sheet['F5'].value+sheet['F6'].value+sheet['F7'].value+sheet['F8'].value\n",
    "\n",
    "inz=bc*100000/berlin\n",
    "\n",
    "print(inz)"
   ]
  },
  {
   "cell_type": "code",
   "execution_count": 5,
   "id": "851e8a53",
   "metadata": {},
   "outputs": [
    {
     "name": "stdout",
     "output_type": "stream",
     "text": [
      "{'AdmUnitId': 11001, 'BundeslandId': 11, 'AnzFall': 28610, 'AnzTodesfall': 344, 'AnzFallNeu': 205, 'AnzTodesfallNeu': 3, 'AnzFall7T': 760, 'AnzGenesen': 26100, 'AnzGenesenNeu': 100, 'AnzAktiv': 2200, 'AnzAktivNeu': 100, 'Inz7T': 202.9, 'ObjectId': 318}\n"
     ]
    }
   ],
   "source": [
    "#API vom RKI von Laras Reposoitory mit Landkreis-ID von Berlin\n",
    "import requests, json\n",
    "\n",
    "url = \"https://services7.arcgis.com/mOBPykOjAyBO2ZKk/arcgis/rest/services/rki_key_data_v/FeatureServer/0/query?\"\n",
    "lk_id = 11001 # ID für den Kreis Berlin gemäß AdmUnit Tabelle\n",
    "parameter = {\n",
    "    'referer':'https://www.mywebapp.com',\n",
    "    'user-agent':'python-requests/2.9.1',\n",
    "    'where': f'AdmUnitId = {lk_id}', # Welche landkreise sollen zurück gegeben werden\n",
    "    'outFields': '*', # Rückgabe aller Felder\n",
    "    'returnGeometry': False, # Keine Geometrien\n",
    "    'f':'json', # Rückgabeformat, hier JSON\n",
    "    'cacheHint': True # Zugriff über CDN anfragen\n",
    "}\n",
    "result = requests.get(url=url, params=parameter) #Anfrage absetzen\n",
    "resultjson = json.loads(result.text) # Das Ergebnis JSON als Python Dictionary laden\n",
    "print(resultjson['features'][0]['attributes']) # Wir erwarten genau einen Datensatz, Ausgabe aller Attribute"
   ]
  },
  {
   "cell_type": "code",
   "execution_count": 6,
   "id": "125303c6",
   "metadata": {},
   "outputs": [
    {
     "name": "stdout",
     "output_type": "stream",
     "text": [
      "AdmUnitId : 11001\n",
      "BundeslandId : 11\n",
      "AnzFall : 28610\n",
      "AnzTodesfall : 344\n",
      "AnzFallNeu : 205\n",
      "AnzTodesfallNeu : 3\n",
      "AnzFall7T : 760\n",
      "AnzGenesen : 26100\n",
      "AnzGenesenNeu : 100\n",
      "AnzAktiv : 2200\n",
      "AnzAktivNeu : 100\n",
      "Inz7T : 202.9\n",
      "ObjectId : 318\n"
     ]
    }
   ],
   "source": [
    "newjson=resultjson['features'][0]['attributes']\n",
    "\n",
    "for key in newjson:\n",
    "    print(key, \":\", newjson[key])"
   ]
  },
  {
   "cell_type": "code",
   "execution_count": 7,
   "id": "16caac92",
   "metadata": {},
   "outputs": [
    {
     "name": "stdout",
     "output_type": "stream",
     "text": [
      "{'objectIdFieldName': 'ObjectId', 'uniqueIdField': {'name': 'ObjectId', 'isSystemMaintained': True}, 'globalIdFieldName': '', 'fields': [{'name': 'AdmUnitId', 'type': 'esriFieldTypeInteger', 'alias': 'AdmUnitId', 'sqlType': 'sqlTypeInteger', 'domain': None, 'defaultValue': None}, {'name': 'BundeslandId', 'type': 'esriFieldTypeInteger', 'alias': 'BundeslandId', 'sqlType': 'sqlTypeInteger', 'domain': None, 'defaultValue': None}, {'name': 'AnzFall', 'type': 'esriFieldTypeInteger', 'alias': 'AnzFall', 'sqlType': 'sqlTypeInteger', 'domain': None, 'defaultValue': None}, {'name': 'AnzTodesfall', 'type': 'esriFieldTypeInteger', 'alias': 'AnzTodesfall', 'sqlType': 'sqlTypeInteger', 'domain': None, 'defaultValue': None}, {'name': 'AnzFallNeu', 'type': 'esriFieldTypeInteger', 'alias': 'AnzFallNeu', 'sqlType': 'sqlTypeInteger', 'domain': None, 'defaultValue': None}, {'name': 'AnzTodesfallNeu', 'type': 'esriFieldTypeInteger', 'alias': 'AnzTodesfallNeu', 'sqlType': 'sqlTypeInteger', 'domain': None, 'defaultValue': None}, {'name': 'AnzFall7T', 'type': 'esriFieldTypeInteger', 'alias': 'AnzFall7T', 'sqlType': 'sqlTypeInteger', 'domain': None, 'defaultValue': None}, {'name': 'AnzGenesen', 'type': 'esriFieldTypeInteger', 'alias': 'AnzGenesen', 'sqlType': 'sqlTypeInteger', 'domain': None, 'defaultValue': None}, {'name': 'AnzGenesenNeu', 'type': 'esriFieldTypeInteger', 'alias': 'AnzGenesenNeu', 'sqlType': 'sqlTypeInteger', 'domain': None, 'defaultValue': None}, {'name': 'AnzAktiv', 'type': 'esriFieldTypeInteger', 'alias': 'AnzAktiv', 'sqlType': 'sqlTypeInteger', 'domain': None, 'defaultValue': None}, {'name': 'AnzAktivNeu', 'type': 'esriFieldTypeInteger', 'alias': 'AnzAktivNeu', 'sqlType': 'sqlTypeInteger', 'domain': None, 'defaultValue': None}, {'name': 'Inz7T', 'type': 'esriFieldTypeDouble', 'alias': 'Inz7T', 'sqlType': 'sqlTypeFloat', 'domain': None, 'defaultValue': None}, {'name': 'ObjectId', 'type': 'esriFieldTypeOID', 'alias': 'ObjectId', 'sqlType': 'sqlTypeInteger', 'domain': None, 'defaultValue': None}], 'features': [{'attributes': {'AdmUnitId': 11001, 'BundeslandId': 11, 'AnzFall': 28610, 'AnzTodesfall': 344, 'AnzFallNeu': 205, 'AnzTodesfallNeu': 3, 'AnzFall7T': 760, 'AnzGenesen': 26100, 'AnzGenesenNeu': 100, 'AnzAktiv': 2200, 'AnzAktivNeu': 100, 'Inz7T': 202.9, 'ObjectId': 318}}]}\n",
      "202.9\n"
     ]
    }
   ],
   "source": [
    "#Directory in Json-String verändert\n",
    "#unnötig für weiteeres Vorgehen\n",
    "json_object = json.dumps(resultjson, indent = 4) \n",
    "object = json.loads(json_object)\n",
    "print(object)\n",
    "print(object['features'][0]['attributes']['Inz7T'])"
   ]
  },
  {
   "cell_type": "code",
   "execution_count": 8,
   "id": "e1d0f90e",
   "metadata": {},
   "outputs": [
    {
     "name": "stdout",
     "output_type": "stream",
     "text": [
      "content\n"
     ]
    }
   ],
   "source": [
    "#Beispielcode zum Auslesen einer Directory\n",
    "jsonString = '{\"test\": \"testValue\",\"test2\": \"content\"}'\n",
    "\n",
    "obj = json.loads(jsonString)\n",
    "\n",
    "print(obj[\"test2\"])"
   ]
  },
  {
   "cell_type": "code",
   "execution_count": 9,
   "id": "64063970",
   "metadata": {},
   "outputs": [
    {
     "name": "stdout",
     "output_type": "stream",
     "text": [
      "7-Tage-Inzidenz : 202.9\n"
     ]
    }
   ],
   "source": [
    "print('7-Tage-Inzidenz :', object['features'][0]['attributes']['Inz7T'])\n"
   ]
  },
  {
   "cell_type": "code",
   "execution_count": 10,
   "id": "105a51df",
   "metadata": {},
   "outputs": [
    {
     "name": "stdout",
     "output_type": "stream",
     "text": [
      "202.9\n"
     ]
    }
   ],
   "source": [
    "print(resultjson['features'][0]['attributes']['Inz7T'])"
   ]
  },
  {
   "cell_type": "code",
   "execution_count": 16,
   "id": "7b88a92d",
   "metadata": {},
   "outputs": [],
   "source": [
    "#Zugriff auf Dokumentation mit ?\n",
    "import pandas as pd\n",
    "pd.Series?"
   ]
  },
  {
   "cell_type": "code",
   "execution_count": 12,
   "id": "99cfecdc",
   "metadata": {},
   "outputs": [
    {
     "data": {
      "image/png": "[encoded data removed]",
      "text/plain": [
       "<Figure size 432x288 with 1 Axes>"
      ]
     },
     "metadata": {
      "needs_background": "light"
     },
     "output_type": "display_data"
    }
   ],
   "source": [
    "#Beispielcode zum Erstellen eines Balkendiagrammes\n",
    "import matplotlib.pyplot as plt\n",
    "\n",
    "ywerte = [4, 7, 1, 9, 5, 2, 8]\n",
    "xwerte = [1, 2, 3, 4, 5, 6, 7]\n",
    "plt.bar(xwerte, ywerte)\n",
    "plt.xlabel(\"X-Werte\")\n",
    "plt.ylabel(\"Y-Werte\")\n",
    "plt.show()"
   ]
  },
  {
   "cell_type": "code",
   "execution_count": 13,
   "id": "7f824363",
   "metadata": {},
   "outputs": [
    {
     "name": "stdout",
     "output_type": "stream",
     "text": [
      "88.4\n"
     ]
    }
   ],
   "source": [
    "#Inzidenz von Steinfurt\n",
    "url = \"https://services7.arcgis.com/mOBPykOjAyBO2ZKk/arcgis/rest/services/rki_key_data_v/FeatureServer/0/query?\"\n",
    "lk_id = 5566 # ID für den Kreis Steinfurt gemäß AdmUnit Tabelle\n",
    "parameter = {\n",
    "    'referer':'https://www.mywebapp.com',\n",
    "    'user-agent':'python-requests/2.9.1',\n",
    "    'where': f'AdmUnitId = {lk_id}', # Welche landkreise sollen zurück gegeben werden\n",
    "    'outFields': '*', # Rückgabe aller Felder\n",
    "    'returnGeometry': False, # Keine Geometrien\n",
    "    'f':'json', # Rückgabeformat, hier JSON\n",
    "    'cacheHint': True # Zugriff über CDN anfragen\n",
    "}\n",
    "result2 = requests.get(url=url, params=parameter) #Anfrage absetzen\n",
    "resultjson2 = json.loads(result2.text) # Das Ergebnis JSON als Python Dictionary laden\n",
    "print(resultjson2['features'][0]['attributes']['Inz7T']) # Wir erwarten genau einen Datensatz, Ausgabe aller Attribute"
   ]
  },
  {
   "cell_type": "code",
   "execution_count": 17,
   "id": "4d88f7d8",
   "metadata": {},
   "outputs": [
    {
     "data": {
      "image/png": "[encoded data removed]",
      "text/plain": [
       "<Figure size 432x288 with 1 Axes>"
      ]
     },
     "metadata": {
      "needs_background": "light"
     },
     "output_type": "display_data"
    }
   ],
   "source": [
    "#Balkendiagramm mit den Inzidenzen von Berlin und Steinfurt\n",
    "steinfurt=resultjson2['features'][0]['attributes']['Inz7T']\n",
    "berlin=resultjson['features'][0]['attributes']['Inz7T']\n",
    "ywerte = [steinfurt, berlin]\n",
    "xwerte = ['Steinfurt', 'Berlin']\n",
    "plt.bar(xwerte, ywerte)\n",
    "plt.xlabel(\"Orte\")\n",
    "plt.ylabel(\"Inzidenzen\")\n",
    "plt.show()"
   ]
  },
  {
   "cell_type": "code",
   "execution_count": null,
   "id": "771c20a3",
   "metadata": {},
   "outputs": [],
   "source": []
  }
 ],
 "metadata": {
  "kernelspec": {
   "display_name": "Python 3 (ipykernel)",
   "language": "python",
   "name": "python3"
  },
  "language_info": {
   "codemirror_mode": {
    "name": "ipython",
    "version": 3
   },
   "file_extension": ".py",
   "mimetype": "text/x-python",
   "name": "python",
   "nbconvert_exporter": "python",
   "pygments_lexer": "ipython3",
   "version": "3.9.5"
  }
 },
 "nbformat": 4,
 "nbformat_minor": 5
}
