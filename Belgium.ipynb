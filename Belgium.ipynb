{
 "cells": [
  {
   "cell_type": "code",
   "execution_count": 2,
   "metadata": {},
   "outputs": [
    {
     "name": "stdout",
     "output_type": "stream",
     "text": [
      "province : Antwerpen\n",
      "total_in_ecmo : 4\n",
      "new_in : 22\n",
      "total_in_resp : 37\n",
      "region : Flanders\n",
      "geo_point_2d : [51.2301272595, 4.71847758132]\n",
      "new_out : 19\n",
      "total_in_icu : 77\n",
      "nr_reporting : 14\n",
      "total_in : 337\n",
      "date : 2021-11-12\n"
     ]
    }
   ],
   "source": [
    "#Province Antwerpen\n",
    "import requests,json\n",
    "url =\"https://dashboardcovid.trial.opendatasoft.com/api/records/1.0/search/?dataset=covid-19-pandemic-belgium-hospitalisations-by-date-and-province&q=&sort=date&facet=date&facet=province&facet=region&refine.province=Antwerpen&refine.date=2021\"\n",
    "result = requests.get(url=url) #Anfrage absetzen\n",
    "resultjson = json.loads(result.text)\n",
    "newjson=resultjson['records'][0]['fields']\n",
    "\n",
    "for key in newjson:\n",
    "    print(key, \":\", newjson[key])"
   ]
  },
  {
   "cell_type": "code",
   "execution_count": 3,
   "metadata": {},
   "outputs": [
    {
     "name": "stdout",
     "output_type": "stream",
     "text": [
      "province : Brabant Wallon\n",
      "total_in_ecmo : 0\n",
      "new_in : 5\n",
      "total_in_resp : 5\n",
      "region : Wallonia\n",
      "geo_point_2d : [50.6698784638, 4.58249232188]\n",
      "new_out : 0\n",
      "total_in_icu : 7\n",
      "nr_reporting : 2\n",
      "total_in : 36\n",
      "date : 2021-11-12\n"
     ]
    }
   ],
   "source": [
    "#Brabant Wallon\n",
    "import requests,json\n",
    "url =\"https://dashboardcovid.trial.opendatasoft.com/api/records/1.0/search/?dataset=covid-19-pandemic-belgium-hospitalisations-by-date-and-province&q=&sort=date&facet=date&facet=province&facet=region&refine.province=Brabant+Wallon\"\n",
    "result = requests.get(url=url) #Anfrage absetzen\n",
    "resultjson = json.loads(result.text)\n",
    "newjson=resultjson['records'][0]['fields']\n",
    "\n",
    "for key in newjson:\n",
    "    print(key, \":\", newjson[key])"
   ]
  },
  {
   "cell_type": "code",
   "execution_count": 4,
   "metadata": {},
   "outputs": [
    {
     "name": "stdout",
     "output_type": "stream",
     "text": [
      "province : Brussels\n",
      "total_in_ecmo : 8\n",
      "new_in : 15\n",
      "total_in_resp : 38\n",
      "region : Brussels\n",
      "geo_point_2d : [50.8365663663, 4.36943412254]\n",
      "new_out : 14\n",
      "total_in_icu : 67\n",
      "nr_reporting : 15\n",
      "total_in : 334\n",
      "date : 2021-11-12\n"
     ]
    }
   ],
   "source": [
    "import requests,json\n",
    "url =\"https://dashboardcovid.trial.opendatasoft.com/api/records/1.0/search/?dataset=covid-19-pandemic-belgium-hospitalisations-by-date-and-province&q=&sort=date&facet=date&facet=province&facet=region&refine.province=Brussels\"\n",
    "result = requests.get(url=url) #Anfrage absetzen\n",
    "resultjson = json.loads(result.text)\n",
    "newjson=resultjson['records'][0]['fields']\n",
    "\n",
    "for key in newjson:\n",
    "    print(key, \":\", newjson[key])"
   ]
  },
  {
   "cell_type": "code",
   "execution_count": 5,
   "metadata": {},
   "outputs": [
    {
     "name": "stdout",
     "output_type": "stream",
     "text": [
      "province : Hainaut\n",
      "total_in_ecmo : 6\n",
      "new_in : 12\n",
      "total_in_resp : 33\n",
      "region : Wallonia\n",
      "geo_point_2d : [50.470183641, 3.95818123521]\n",
      "new_out : 8\n",
      "total_in_icu : 54\n",
      "nr_reporting : 14\n",
      "total_in : 268\n",
      "date : 2021-11-12\n"
     ]
    }
   ],
   "source": [
    "import requests,json\n",
    "url =\"https://dashboardcovid.trial.opendatasoft.com/api/records/1.0/search/?dataset=covid-19-pandemic-belgium-hospitalisations-by-date-and-province&q=&sort=date&facet=date&facet=province&facet=region&refine.province=Hainaut\"\n",
    "result = requests.get(url=url) #Anfrage absetzen\n",
    "resultjson = json.loads(result.text)\n",
    "newjson=resultjson['records'][0]['fields']\n",
    "\n",
    "for key in newjson:\n",
    "    print(key, \":\", newjson[key])"
   ]
  },
  {
   "cell_type": "code",
   "execution_count": 6,
   "metadata": {},
   "outputs": [
    {
     "name": "stdout",
     "output_type": "stream",
     "text": [
      "province : Limburg\n",
      "total_in_ecmo : 2\n",
      "new_in : 20\n",
      "total_in_resp : 21\n",
      "region : Flanders\n",
      "geo_point_2d : [50.9920180609, 5.42789826339]\n",
      "new_out : 10\n",
      "total_in_icu : 39\n",
      "nr_reporting : 7\n",
      "total_in : 140\n",
      "date : 2021-11-12\n"
     ]
    }
   ],
   "source": [
    "import requests,json\n",
    "url =\"https://dashboardcovid.trial.opendatasoft.com/api/records/1.0/search/?dataset=covid-19-pandemic-belgium-hospitalisations-by-date-and-province&q=&sort=date&facet=date&facet=province&facet=region&refine.province=Limburg\"\n",
    "result = requests.get(url=url) #Anfrage absetzen\n",
    "resultjson = json.loads(result.text)\n",
    "newjson=resultjson['records'][0]['fields']\n",
    "\n",
    "for key in newjson:\n",
    "    print(key, \":\", newjson[key])"
   ]
  },
  {
   "cell_type": "code",
   "execution_count": 7,
   "metadata": {},
   "outputs": [
    {
     "name": "stdout",
     "output_type": "stream",
     "text": [
      "province : LiÃ¨ge\n",
      "total_in_ecmo : 0\n",
      "new_in : 37\n",
      "total_in_resp : 36\n",
      "region : Wallonia\n",
      "new_out : 9\n",
      "total_in_icu : 65\n",
      "nr_reporting : 12\n",
      "total_in : 350\n",
      "date : 2021-11-12\n"
     ]
    }
   ],
   "source": [
    "import requests,json\n",
    "url =\"https://dashboardcovid.trial.opendatasoft.com/api/records/1.0/search/?dataset=covid-19-pandemic-belgium-hospitalisations-by-date-and-province&q=&sort=date&facet=date&facet=province&facet=region&refine.province=Li%C3%83%C2%A8ge\"\n",
    "result = requests.get(url=url) #Anfrage absetzen\n",
    "resultjson = json.loads(result.text)\n",
    "newjson=resultjson['records'][0]['fields']\n",
    "\n",
    "for key in newjson:\n",
    "    print(key, \":\", newjson[key])"
   ]
  },
  {
   "cell_type": "code",
   "execution_count": 8,
   "metadata": {},
   "outputs": [
    {
     "name": "stdout",
     "output_type": "stream",
     "text": [
      "province : Luxembourg\n",
      "total_in_ecmo : 0\n",
      "new_in : 0\n",
      "total_in_resp : 3\n",
      "region : Wallonia\n",
      "geo_point_2d : [49.9622796628, 5.51213275504]\n",
      "new_out : 0\n",
      "total_in_icu : 7\n",
      "nr_reporting : 3\n",
      "total_in : 49\n",
      "date : 2021-11-12\n"
     ]
    }
   ],
   "source": [
    "import requests,json\n",
    "url =\"https://dashboardcovid.trial.opendatasoft.com/api/records/1.0/search/?dataset=covid-19-pandemic-belgium-hospitalisations-by-date-and-province&q=&sort=date&facet=date&facet=province&facet=region&refine.province=Luxembourg\"\n",
    "result = requests.get(url=url) #Anfrage absetzen\n",
    "resultjson = json.loads(result.text)\n",
    "newjson=resultjson['records'][0]['fields']\n",
    "\n",
    "for key in newjson:\n",
    "    print(key, \":\", newjson[key])"
   ]
  },
  {
   "cell_type": "code",
   "execution_count": 9,
   "metadata": {},
   "outputs": [
    {
     "name": "stdout",
     "output_type": "stream",
     "text": [
      "province : Namur\n",
      "total_in_ecmo : 2\n",
      "new_in : 4\n",
      "total_in_resp : 14\n",
      "region : Wallonia\n",
      "geo_point_2d : [50.2562514886, 4.85102631435]\n",
      "new_out : 5\n",
      "total_in_icu : 22\n",
      "nr_reporting : 6\n",
      "total_in : 92\n",
      "date : 2021-11-12\n"
     ]
    }
   ],
   "source": [
    "import requests,json\n",
    "url =\"https://dashboardcovid.trial.opendatasoft.com/api/records/1.0/search/?dataset=covid-19-pandemic-belgium-hospitalisations-by-date-and-province&q=&sort=date&facet=date&facet=province&facet=region&refine.province=Namur\"\n",
    "result = requests.get(url=url) #Anfrage absetzen\n",
    "resultjson = json.loads(result.text)\n",
    "newjson=resultjson['records'][0]['fields']\n",
    "\n",
    "for key in newjson:\n",
    "    print(key, \":\", newjson[key])"
   ]
  },
  {
   "cell_type": "code",
   "execution_count": 10,
   "metadata": {},
   "outputs": [
    {
     "name": "stdout",
     "output_type": "stream",
     "text": [
      "province : Oost-Vlaanderen\n",
      "total_in_ecmo : 4\n",
      "new_in : 19\n",
      "total_in_resp : 24\n",
      "region : Flanders\n",
      "geo_point_2d : [51.0370460335, 3.81515533941]\n",
      "new_out : 15\n",
      "total_in_icu : 60\n",
      "nr_reporting : 14\n",
      "total_in : 261\n",
      "date : 2021-11-12\n"
     ]
    }
   ],
   "source": [
    "import requests,json\n",
    "url =\"https://dashboardcovid.trial.opendatasoft.com/api/records/1.0/search/?dataset=covid-19-pandemic-belgium-hospitalisations-by-date-and-province&q=&sort=date&facet=date&facet=province&facet=region&refine.province=Oost-Vlaanderen\"\n",
    "result = requests.get(url=url) #Anfrage absetzen\n",
    "resultjson = json.loads(result.text)\n",
    "newjson=resultjson['records'][0]['fields']\n",
    "\n",
    "for key in newjson:\n",
    "    print(key, \":\", newjson[key])"
   ]
  },
  {
   "cell_type": "code",
   "execution_count": 11,
   "metadata": {},
   "outputs": [
    {
     "name": "stdout",
     "output_type": "stream",
     "text": [
      "province : Vlaams-Brabant\n",
      "total_in_ecmo : 2\n",
      "new_in : 13\n",
      "total_in_resp : 18\n",
      "region : Flanders\n",
      "geo_point_2d : [50.8732757887, 4.58938192994]\n",
      "new_out : 5\n",
      "total_in_icu : 31\n",
      "nr_reporting : 6\n",
      "total_in : 136\n",
      "date : 2021-11-12\n"
     ]
    }
   ],
   "source": [
    "import requests,json\n",
    "url =\"https://dashboardcovid.trial.opendatasoft.com/api/records/1.0/search/?dataset=covid-19-pandemic-belgium-hospitalisations-by-date-and-province&q=&sort=date&facet=date&facet=province&facet=region&refine.province=Vlaams-Brabant\"\n",
    "result = requests.get(url=url) #Anfrage absetzen\n",
    "resultjson = json.loads(result.text)\n",
    "newjson=resultjson['records'][0]['fields']\n",
    "\n",
    "for key in newjson:\n",
    "    print(key, \":\", newjson[key])"
   ]
  },
  {
   "cell_type": "code",
   "execution_count": 12,
   "metadata": {},
   "outputs": [
    {
     "name": "stdout",
     "output_type": "stream",
     "text": [
      "province : West-Vlaanderen\n",
      "total_in_ecmo : 1\n",
      "new_in : 26\n",
      "total_in_resp : 21\n",
      "region : Flanders\n",
      "geo_point_2d : [51.012034214, 3.05634195912]\n",
      "new_out : 21\n",
      "total_in_icu : 58\n",
      "nr_reporting : 11\n",
      "total_in : 388\n",
      "date : 2021-11-12\n"
     ]
    }
   ],
   "source": [
    "import requests,json\n",
    "url =\"https://dashboardcovid.trial.opendatasoft.com/api/records/1.0/search/?dataset=covid-19-pandemic-belgium-hospitalisations-by-date-and-province&q=&sort=date&facet=date&facet=province&facet=region&refine.province=West-Vlaanderen\"\n",
    "result = requests.get(url=url) #Anfrage absetzen\n",
    "resultjson = json.loads(result.text)\n",
    "newjson=resultjson['records'][0]['fields']\n",
    "\n",
    "for key in newjson:\n",
    "    print(key, \":\", newjson[key])"
   ]
  },
  {
   "cell_type": "code",
   "execution_count": null,
   "metadata": {},
   "outputs": [],
   "source": []
  }
 ],
 "metadata": {
  "kernelspec": {
   "display_name": "Python 3",
   "language": "python",
   "name": "python3"
  },
  "language_info": {
   "codemirror_mode": {
    "name": "ipython",
    "version": 3
   },
   "file_extension": ".py",
   "mimetype": "text/x-python",
   "name": "python",
   "nbconvert_exporter": "python",
   "pygments_lexer": "ipython3",
   "version": "3.8.5"
  }
 },
 "nbformat": 4,
 "nbformat_minor": 4
}
